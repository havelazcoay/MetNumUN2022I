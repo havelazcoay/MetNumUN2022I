{
  "nbformat": 4,
  "nbformat_minor": 0,
  "metadata": {
    "colab": {
      "name": "laboratorio_1.ipynb",
      "provenance": [],
      "authorship_tag": "ABX9TyOJC9zxCpBKI4nsAP3GfbIA",
      "include_colab_link": true
    },
    "kernelspec": {
      "name": "python3",
      "display_name": "Python 3"
    },
    "language_info": {
      "name": "python"
    }
  },
  "cells": [
    {
      "cell_type": "markdown",
      "metadata": {
        "id": "view-in-github",
        "colab_type": "text"
      },
      "source": [
        "<a href=\"https://colab.research.google.com/github/havelazcoay/MetNumUN2022I/blob/main/laboratorio_1.ipynb\" target=\"_parent\"><img src=\"https://colab.research.google.com/assets/colab-badge.svg\" alt=\"Open In Colab\"/></a>"
      ]
    },
    {
      "cell_type": "code",
      "execution_count": null,
      "metadata": {
        "colab": {
          "base_uri": "https://localhost:8080/"
        },
        "id": "T0Hayll5-ols",
        "outputId": "37a119ee-090d-4a6d-ab95-bac2175e5bfd"
      },
      "outputs": [
        {
          "output_type": "stream",
          "name": "stdout",
          "text": [
            "392\n"
          ]
        }
      ],
      "source": [
        "##My own example 1:\n",
        "\n",
        "print(334+58)\n"
      ]
    },
    {
      "cell_type": "code",
      "source": [
        "##My own example 2:\n",
        "x=54\n",
        "y=34\n",
        "print(x+y)"
      ],
      "metadata": {
        "colab": {
          "base_uri": "https://localhost:8080/"
        },
        "id": "tQN2Y1Pj-9Bv",
        "outputId": "628100c8-948e-497a-ff53-a173b6a6003e"
      },
      "execution_count": null,
      "outputs": [
        {
          "output_type": "stream",
          "name": "stdout",
          "text": [
            "88\n"
          ]
        }
      ]
    },
    {
      "cell_type": "code",
      "source": [
        "##My own example 3:\n",
        "\n",
        "h = int(55)\n",
        "j = int(7)\n",
        "\n",
        "f = int(h*j)\n",
        "print(f)\n"
      ],
      "metadata": {
        "colab": {
          "base_uri": "https://localhost:8080/"
        },
        "id": "9TkycXzb_Tbb",
        "outputId": "7bbea62b-e51a-43c6-967a-09521edeab28"
      },
      "execution_count": null,
      "outputs": [
        {
          "output_type": "stream",
          "name": "stdout",
          "text": [
            "385\n"
          ]
        }
      ]
    },
    {
      "cell_type": "code",
      "source": [
        "##My own example 4:\n",
        "\n",
        "t = float(67.5)\n",
        "x = int(65)\n",
        "\n",
        "print (int(x+t) + float(2.3))  ##suma de un entero y un flotante como entero mas una suma de otro flotante"
      ],
      "metadata": {
        "colab": {
          "base_uri": "https://localhost:8080/"
        },
        "id": "jC_uG9TmB0BP",
        "outputId": "892c7044-9680-42d1-bfb3-2f9558f4dd07"
      },
      "execution_count": null,
      "outputs": [
        {
          "output_type": "stream",
          "name": "stdout",
          "text": [
            "134.3\n"
          ]
        }
      ]
    },
    {
      "cell_type": "code",
      "source": [
        "##My own example 5:\n",
        "\n",
        "s = str(\"hola \")\n",
        "print (s*3)  ##multiplicacion de string para hacer que se repita la palabra"
      ],
      "metadata": {
        "colab": {
          "base_uri": "https://localhost:8080/"
        },
        "id": "VkVbNrN-Ct2D",
        "outputId": "d30f3ae4-8828-49bf-a8fb-a562ae9838a8"
      },
      "execution_count": null,
      "outputs": [
        {
          "output_type": "stream",
          "name": "stdout",
          "text": [
            "hola hola hola \n"
          ]
        }
      ]
    },
    {
      "cell_type": "code",
      "source": [
        "##My own example 6:\n",
        "\n",
        "i = \"increible\"\n",
        "\n",
        "def func_text():\n",
        "  h = str(\"harold es \")\n",
        "  print (h+i)\n",
        "\n",
        "func_text() ##uso de funciones"
      ],
      "metadata": {
        "colab": {
          "base_uri": "https://localhost:8080/"
        },
        "id": "gcgqkqwRDlXs",
        "outputId": "d5e26538-65a5-4368-caea-89f5558e5d50"
      },
      "execution_count": null,
      "outputs": [
        {
          "output_type": "stream",
          "name": "stdout",
          "text": [
            "harold es increible\n"
          ]
        }
      ]
    },
    {
      "cell_type": "code",
      "source": [
        "##My own example 7:\n",
        "p = \"python \"\n",
        "\n",
        "def func1():\n",
        "  global q \n",
        "  q = \"es sencillo\"\n",
        "  print (p + q)\n",
        "\n",
        "func1()   ## uso de varible global"
      ],
      "metadata": {
        "colab": {
          "base_uri": "https://localhost:8080/"
        },
        "id": "eByt69ltEmHQ",
        "outputId": "e88b8891-f5c0-43c5-9af0-df49646bcf56"
      },
      "execution_count": null,
      "outputs": [
        {
          "output_type": "stream",
          "name": "stdout",
          "text": [
            "python es sencillo\n"
          ]
        }
      ]
    },
    {
      "cell_type": "code",
      "source": [
        "##My own example 8:\n",
        "w = 10\n",
        "y = \"hola\"\n",
        "print (type(w))\n",
        "print (type(y))"
      ],
      "metadata": {
        "colab": {
          "base_uri": "https://localhost:8080/"
        },
        "id": "dsAE4R_QFU0a",
        "outputId": "1a494567-504d-4070-9d6d-d3feeadebf95"
      },
      "execution_count": null,
      "outputs": [
        {
          "output_type": "stream",
          "name": "stdout",
          "text": [
            "<class 'int'>\n",
            "<class 'str'>\n"
          ]
        }
      ]
    },
    {
      "cell_type": "code",
      "source": [
        "##My own example 9:\n",
        "\n",
        "a = 12.5\n",
        "b = 3\n",
        "\n",
        "z = a**3 \n",
        "print(z) ##uso de un numero elevado a un exponente"
      ],
      "metadata": {
        "colab": {
          "base_uri": "https://localhost:8080/"
        },
        "id": "MQqdlwqRGXQF",
        "outputId": "eaffd67b-8b03-43a8-94f3-3e7c12639f61"
      },
      "execution_count": null,
      "outputs": [
        {
          "output_type": "stream",
          "name": "stdout",
          "text": [
            "1953.125\n"
          ]
        }
      ]
    },
    {
      "cell_type": "code",
      "source": [
        "##My own example 10:\n",
        "\n",
        "a = 32\n",
        "b = 56\n",
        "\n",
        "z = a/b\n",
        "print(z)  ## uso de la division"
      ],
      "metadata": {
        "colab": {
          "base_uri": "https://localhost:8080/"
        },
        "id": "cViN7U5VG7lU",
        "outputId": "084ed232-6022-4171-cd71-d6540ce6c59f"
      },
      "execution_count": null,
      "outputs": [
        {
          "output_type": "stream",
          "name": "stdout",
          "text": [
            "0.5714285714285714\n"
          ]
        }
      ]
    },
    {
      "cell_type": "code",
      "source": [
        "##My own example 11:\n",
        "\n",
        "a = 12.3\n",
        "b = 2\n",
        "\n",
        "d = int(a)\n",
        "c = float (b)\n",
        "\n",
        "print (d, c)"
      ],
      "metadata": {
        "colab": {
          "base_uri": "https://localhost:8080/"
        },
        "id": "xWmMSvH1HTWK",
        "outputId": "7c8891b9-2837-485b-bcb3-5bb926105f3a"
      },
      "execution_count": null,
      "outputs": [
        {
          "output_type": "stream",
          "name": "stdout",
          "text": [
            "12 2.0\n"
          ]
        }
      ]
    },
    {
      "cell_type": "code",
      "source": [
        "##My own example 12:\n",
        "\n",
        "import random\n",
        "\n",
        "print(random.randrange(1, 10)) ##importamos la libreria random y pedimos un numero al azar"
      ],
      "metadata": {
        "colab": {
          "base_uri": "https://localhost:8080/"
        },
        "id": "g_CxCZO_IPuK",
        "outputId": "0161ea2a-3760-45a7-f7f8-194fb731cb17"
      },
      "execution_count": null,
      "outputs": [
        {
          "output_type": "stream",
          "name": "stdout",
          "text": [
            "1\n"
          ]
        }
      ]
    },
    {
      "cell_type": "code",
      "source": [
        "##My own example 13:\n",
        "import random\n",
        "\n",
        "def MyFunc():\n",
        "  x = random.randrange(1, 10)\n",
        "  y = random.randrange(1, 10)\n",
        "  if (x > y):\n",
        "    print (\"x es mayor que y\")\n",
        "  else:\n",
        "    print (\"y es mayor que x\")\n",
        "\n",
        "MyFunc()     ## una funcion usando variables de valor aleatorio que las compara y nos dice que variable tiene mayor valor                        \n"
      ],
      "metadata": {
        "colab": {
          "base_uri": "https://localhost:8080/"
        },
        "id": "LU6n8v2XIfBk",
        "outputId": "aeea2820-d133-4e6b-d102-6fc86d22032e"
      },
      "execution_count": null,
      "outputs": [
        {
          "output_type": "stream",
          "name": "stdout",
          "text": [
            "y es mayor que x\n"
          ]
        }
      ]
    },
    {
      "cell_type": "code",
      "source": [
        "##My own example 14:\n",
        "\n",
        "x = \"Universidad Nacional\"\n",
        "\n",
        "print(x[0])  ##imrpimimos la primera letra de un string como si fuera un Array"
      ],
      "metadata": {
        "colab": {
          "base_uri": "https://localhost:8080/"
        },
        "id": "FWdhk2GjJULS",
        "outputId": "34bad905-36ba-471f-fad9-e75f792ca712"
      },
      "execution_count": null,
      "outputs": [
        {
          "output_type": "stream",
          "name": "stdout",
          "text": [
            "U\n"
          ]
        }
      ]
    },
    {
      "cell_type": "code",
      "source": [
        "##My own example 15:\n",
        "\n",
        "t = \"Harold Armando Velazco\"\n",
        "\n",
        "for caracter in t:\n",
        "  if caracter == \"a\":\n",
        "    print (t + \"\\n\" + caracter)  ##uso del for para mostrar mi nombre la cantidad de veces que contiene una a\n"
      ],
      "metadata": {
        "colab": {
          "base_uri": "https://localhost:8080/"
        },
        "id": "3ibwIbmKJ33s",
        "outputId": "11d4ff56-5b52-43b0-9e27-d5fd74dbc33a"
      },
      "execution_count": null,
      "outputs": [
        {
          "output_type": "stream",
          "name": "stdout",
          "text": [
            "Harold Armando Velazco\n",
            "a\n",
            "Harold Armando Velazco\n",
            "a\n",
            "Harold Armando Velazco\n",
            "a\n"
          ]
        }
      ]
    },
    {
      "cell_type": "code",
      "source": [
        "##My own example 16:\n",
        "\n",
        "edad = int(input(\"¿Cuántos años tiene? \"))\n",
        "if edad < 18:\n",
        "    print(\"Es usted menor de edad\")\n",
        "else:\n",
        "    print(\"Es usted mayor de edad\")\n",
        "print(\"¡Hasta la próxima!\")    ## programa que nos pregunta nuestra edad con la funcion input"
      ],
      "metadata": {
        "colab": {
          "base_uri": "https://localhost:8080/"
        },
        "id": "7Jcj7djxLmpv",
        "outputId": "1e2c295b-63b6-4259-ad00-4a60c091b8ef"
      },
      "execution_count": null,
      "outputs": [
        {
          "output_type": "stream",
          "name": "stdout",
          "text": [
            "¿Cuántos años tiene? 23\n",
            "Es usted mayor de edad\n",
            "¡Hasta la próxima!\n"
          ]
        }
      ]
    },
    {
      "cell_type": "code",
      "source": [
        "##My own example 17:\n",
        "\n",
        "a = \"algoritmos\"\n",
        "print(a.upper()) ##utilizamos el .upper para hacer que el string cambie a mayusculas"
      ],
      "metadata": {
        "colab": {
          "base_uri": "https://localhost:8080/"
        },
        "id": "8FUELMMaL5ix",
        "outputId": "2e3eedfb-811e-4a62-daa6-8aa1c490c258"
      },
      "execution_count": null,
      "outputs": [
        {
          "output_type": "stream",
          "name": "stdout",
          "text": [
            "ALGORITMOS\n"
          ]
        }
      ]
    },
    {
      "cell_type": "code",
      "source": [
        "##My own example 18:\n",
        "\n",
        "b = \"ESTUDIANTE\"\n",
        "print(b.lower())  ##utilizamos el .lower para hacer que el string cambie a minusculas"
      ],
      "metadata": {
        "colab": {
          "base_uri": "https://localhost:8080/"
        },
        "id": "Zp5eQxbqMjt5",
        "outputId": "6c7f3749-c29f-4b0f-ef70-071011b75aeb"
      },
      "execution_count": null,
      "outputs": [
        {
          "output_type": "stream",
          "name": "stdout",
          "text": [
            "estudiante\n"
          ]
        }
      ]
    },
    {
      "cell_type": "code",
      "source": [
        "##My own example 19:\n",
        "\n",
        "b = \"  soy batman  \"\n",
        "print (b.strip())  ##utilizamos .strip para remover los espacios en blanco al principio y al final\n"
      ],
      "metadata": {
        "colab": {
          "base_uri": "https://localhost:8080/"
        },
        "id": "hgHWWPZUMlwj",
        "outputId": "e436db3a-df85-43e0-8a1d-f2ed8f0caad7"
      },
      "execution_count": null,
      "outputs": [
        {
          "output_type": "stream",
          "name": "stdout",
          "text": [
            "soy batman\n"
          ]
        }
      ]
    },
    {
      "cell_type": "code",
      "source": [
        "##My own example 20:\n",
        "\n",
        "for x in \"automovil\":\n",
        "  print(x) ## utilizamos un for para imprimir hacia abajo el String\n"
      ],
      "metadata": {
        "colab": {
          "base_uri": "https://localhost:8080/"
        },
        "id": "fAbaK0PjNk1R",
        "outputId": "e6d6b619-cd1c-448f-dee9-23f7f85c944b"
      },
      "execution_count": null,
      "outputs": [
        {
          "output_type": "stream",
          "name": "stdout",
          "text": [
            "a\n",
            "u\n",
            "t\n",
            "o\n",
            "m\n",
            "o\n",
            "v\n",
            "i\n",
            "l\n"
          ]
        }
      ]
    },
    {
      "cell_type": "code",
      "source": [
        "##My own example 21:\n",
        "\n",
        "x=12\n",
        "y=32\n",
        "\n",
        "print (x%y)  ##residuo de una division"
      ],
      "metadata": {
        "id": "fuD1VXJaNxhI",
        "colab": {
          "base_uri": "https://localhost:8080/"
        },
        "outputId": "fc55f772-c208-4c13-b21c-7aeaed61c2a6"
      },
      "execution_count": null,
      "outputs": [
        {
          "output_type": "stream",
          "name": "stdout",
          "text": [
            "12\n"
          ]
        }
      ]
    },
    {
      "cell_type": "code",
      "source": [
        "##My own example 22:\n",
        "\n",
        "t=2\n",
        "z=2\n",
        "\n",
        "if t==z:\n",
        "  print(\"true\")\n",
        "else:\n",
        "  print(\"false\")  ##uso de la comparacion"
      ],
      "metadata": {
        "colab": {
          "base_uri": "https://localhost:8080/"
        },
        "id": "tf-rWoQXmSey",
        "outputId": "ace71d0f-5d67-4aee-f691-d0e805ad00d7"
      },
      "execution_count": null,
      "outputs": [
        {
          "output_type": "stream",
          "name": "stdout",
          "text": [
            "true\n"
          ]
        }
      ]
    },
    {
      "cell_type": "code",
      "source": [
        "##My own example 23:\n",
        "\n",
        "x = 5\n",
        "\n",
        "x &= 3\n",
        "\n",
        "print(x)  ##uso de operador &= para elementos de un conjunto"
      ],
      "metadata": {
        "id": "zqTQtFdVmjQX",
        "colab": {
          "base_uri": "https://localhost:8080/"
        },
        "outputId": "5854c7f4-5035-4146-aea8-c44378f43745"
      },
      "execution_count": null,
      "outputs": [
        {
          "output_type": "stream",
          "name": "stdout",
          "text": [
            "1\n"
          ]
        }
      ]
    },
    {
      "cell_type": "code",
      "source": [
        "##My own example 24:\n",
        "\n",
        "x = 4\n",
        "\n",
        "x **= 4\n",
        "\n",
        "print(x)  ##elevar un numero a un exponente (modo 2)"
      ],
      "metadata": {
        "id": "GIp77t8KnAeB",
        "colab": {
          "base_uri": "https://localhost:8080/"
        },
        "outputId": "f87c0162-0672-44e0-9d3b-5736b4fe86c7"
      },
      "execution_count": null,
      "outputs": [
        {
          "output_type": "stream",
          "name": "stdout",
          "text": [
            "256\n"
          ]
        }
      ]
    },
    {
      "cell_type": "code",
      "source": [
        "##My own example 25:\n",
        "\n",
        "u = 5\n",
        "i = 8\n",
        "\n",
        "print (u!=i)  ##operador de comparacion numero distinto a otro con resultado booleano"
      ],
      "metadata": {
        "colab": {
          "base_uri": "https://localhost:8080/"
        },
        "id": "1btbqIbNnR_W",
        "outputId": "fa9c6eb8-e63c-45ee-96ec-93432340b4b1"
      },
      "execution_count": null,
      "outputs": [
        {
          "output_type": "stream",
          "name": "stdout",
          "text": [
            "True\n"
          ]
        }
      ]
    },
    {
      "cell_type": "code",
      "source": [
        "##My own example 26:\n",
        "\n",
        "x = 8\n",
        "\n",
        "print(x > 3 and x < 10)  ##uso de comparador and"
      ],
      "metadata": {
        "id": "jUH8WBvInpii",
        "colab": {
          "base_uri": "https://localhost:8080/"
        },
        "outputId": "f06f423d-a0ec-4d0f-b1db-38804b829641"
      },
      "execution_count": null,
      "outputs": [
        {
          "output_type": "stream",
          "name": "stdout",
          "text": [
            "True\n"
          ]
        }
      ]
    },
    {
      "cell_type": "code",
      "source": [
        "##My own example 27:\n",
        "\n",
        "x = 9\n",
        "\n",
        "print(x > 5 or x < 12)  ##uso de comparador or"
      ],
      "metadata": {
        "id": "GcUht2d5n4Kb",
        "colab": {
          "base_uri": "https://localhost:8080/"
        },
        "outputId": "b61159b1-f112-4ca8-83bb-867ddb1a6753"
      },
      "execution_count": null,
      "outputs": [
        {
          "output_type": "stream",
          "name": "stdout",
          "text": [
            "True\n"
          ]
        }
      ]
    },
    {
      "cell_type": "code",
      "source": [
        "##My own example 28:\n",
        "\n",
        "x = 7\n",
        "\n",
        "print(not(x > 2 and x < 17))  ##uso del comparador not"
      ],
      "metadata": {
        "colab": {
          "base_uri": "https://localhost:8080/"
        },
        "id": "FJyEStthn_mO",
        "outputId": "c130fe6d-1552-43ee-e4c9-669192705a46"
      },
      "execution_count": null,
      "outputs": [
        {
          "output_type": "stream",
          "name": "stdout",
          "text": [
            "False\n"
          ]
        }
      ]
    },
    {
      "cell_type": "code",
      "source": [
        "##My own example 29:\n",
        "\n",
        "lista = [\"manzana\", \"pera\", \"limon\"]\n",
        "\n",
        "print (lista)  ##uso de listas"
      ],
      "metadata": {
        "colab": {
          "base_uri": "https://localhost:8080/"
        },
        "id": "rd0TYymboNGI",
        "outputId": "4c9830df-8c4a-4f77-abe8-1d7f28c2d77a"
      },
      "execution_count": null,
      "outputs": [
        {
          "output_type": "stream",
          "name": "stdout",
          "text": [
            "['manzana', 'pera', 'limon']\n"
          ]
        }
      ]
    },
    {
      "cell_type": "code",
      "source": [
        "##My own example 30:\n",
        "\n",
        "lista = [\"manzana\", \"pera\", \"limon\"]\n",
        "\n",
        "print (type(lista))  ##tipo de lista"
      ],
      "metadata": {
        "colab": {
          "base_uri": "https://localhost:8080/"
        },
        "id": "niaGfo7Qoqdl",
        "outputId": "0df76d18-6177-436b-885d-bacd4426b734"
      },
      "execution_count": null,
      "outputs": [
        {
          "output_type": "stream",
          "name": "stdout",
          "text": [
            "<class 'list'>\n"
          ]
        }
      ]
    },
    {
      "cell_type": "code",
      "source": [
        "##My own example 31:\n",
        "\n",
        "lista = [\"manzana\", \"pera\", \"limon\"]\n",
        "\n",
        "print (lista[1])  ##busqueda en una lista"
      ],
      "metadata": {
        "colab": {
          "base_uri": "https://localhost:8080/"
        },
        "id": "8GIq9JQ6o-JD",
        "outputId": "b53b5bf0-937d-4a3d-b840-cfe8500ab356"
      },
      "execution_count": null,
      "outputs": [
        {
          "output_type": "stream",
          "name": "stdout",
          "text": [
            "pera\n"
          ]
        }
      ]
    },
    {
      "cell_type": "code",
      "source": [
        "##My own example 32:\n",
        "\n",
        "lista = [\"manzana\", \"pera\", \"limon\", \"aguacate\", \"mango\", \"uva\"]\n",
        "\n",
        "print (lista[2:5]) ##elementos de una lista desde una posicion hasta el anterior a otra posicion"
      ],
      "metadata": {
        "colab": {
          "base_uri": "https://localhost:8080/"
        },
        "id": "0u9WeD7FpUeq",
        "outputId": "5455157b-5e8a-4786-dd5f-af9ae885f7b7"
      },
      "execution_count": null,
      "outputs": [
        {
          "output_type": "stream",
          "name": "stdout",
          "text": [
            "['limon', 'aguacate', 'mango']\n"
          ]
        }
      ]
    },
    {
      "cell_type": "code",
      "source": [
        "##My own example 33:\n",
        "\n",
        "lista = [\"manzana\", \"pera\", \"limon\", \"aguacate\", \"mango\", \"uva\"]\n",
        "\n",
        "print (lista[-2])  ##busqueda desde el ultimo elemento de una lista utilizando valor negativo"
      ],
      "metadata": {
        "colab": {
          "base_uri": "https://localhost:8080/"
        },
        "id": "JTBwoLbNpq3B",
        "outputId": "14742476-e00d-4217-d478-4ea3f14638bc"
      },
      "execution_count": null,
      "outputs": [
        {
          "output_type": "stream",
          "name": "stdout",
          "text": [
            "mango\n"
          ]
        }
      ]
    },
    {
      "cell_type": "code",
      "source": [
        "##My own example 34:\n",
        "\n",
        "lista = [\"manzana\", \"pera\", \"limon\", \"aguacate\", \"mango\", \"uva\"]\n",
        "\n",
        "print (lista[:3])  ##buscamos hasta el elemento anterior a la posicion marcada"
      ],
      "metadata": {
        "colab": {
          "base_uri": "https://localhost:8080/"
        },
        "id": "Jw4NCnelp5LF",
        "outputId": "e80fa822-4259-47fc-fe52-fa65928a20ee"
      },
      "execution_count": null,
      "outputs": [
        {
          "output_type": "stream",
          "name": "stdout",
          "text": [
            "['manzana', 'pera', 'limon']\n"
          ]
        }
      ]
    },
    {
      "cell_type": "code",
      "source": [
        "##My own example 35:\n",
        "\n",
        "lista = [\"manzana\", \"pera\", \"limon\", \"aguacate\", \"mango\", \"uva\"]\n",
        "lista[2] = \"guayaba\"\n",
        "\n",
        "print (lista[2])  ##cambio de item en una lista"
      ],
      "metadata": {
        "colab": {
          "base_uri": "https://localhost:8080/"
        },
        "id": "b6w5Wh0JqHZk",
        "outputId": "641e4fd8-df8d-463e-bde2-480ba42a966d"
      },
      "execution_count": null,
      "outputs": [
        {
          "output_type": "stream",
          "name": "stdout",
          "text": [
            "guayaba\n"
          ]
        }
      ]
    },
    {
      "cell_type": "code",
      "source": [
        "##My own example 36:\n",
        "\n",
        "lista = [\"manzana\", \"pera\", \"limon\", \"aguacate\", \"mango\", \"uva\"]\n",
        "lista[2:3] = \"guayaba\", \"melon\"\n",
        "\n",
        "print (lista[2:4])  ##cambio varios elementos de una lista"
      ],
      "metadata": {
        "colab": {
          "base_uri": "https://localhost:8080/"
        },
        "id": "SNg2z3gcqVyG",
        "outputId": "1ab7e8f6-d2e4-4937-b4e5-0e34c2714ecc"
      },
      "execution_count": null,
      "outputs": [
        {
          "output_type": "stream",
          "name": "stdout",
          "text": [
            "['guayaba', 'melon']\n"
          ]
        }
      ]
    },
    {
      "cell_type": "code",
      "source": [
        "##My own example 37:\n",
        "\n",
        "lista = [\"manzana\", \"pera\", \"limon\", \"aguacate\", \"mango\", \"uva\"]\n",
        "lista.insert(3, \"guayaba\")\n",
        "\n",
        "print (lista)  ##insertar un elemento a la lista con insert en una posicion moviendo los demas elementos "
      ],
      "metadata": {
        "colab": {
          "base_uri": "https://localhost:8080/"
        },
        "id": "vmrxJ9qIqi1c",
        "outputId": "ef4b23bf-e2ea-4377-8ac0-f8f807c99e57"
      },
      "execution_count": null,
      "outputs": [
        {
          "output_type": "stream",
          "name": "stdout",
          "text": [
            "['manzana', 'pera', 'limon', 'guayaba', 'aguacate', 'mango', 'uva']\n"
          ]
        }
      ]
    },
    {
      "cell_type": "code",
      "source": [
        "##My own example 38:\n",
        "\n",
        "lista = [\"manzana\", \"pera\", \"limon\", \"aguacate\", \"mango\", \"uva\"]\n",
        "lista.append(\"lulo\")\n",
        "\n",
        "print (lista)  ##insertar un elemento a la lista en la ultima posocion con append"
      ],
      "metadata": {
        "colab": {
          "base_uri": "https://localhost:8080/"
        },
        "id": "dJ2O3LhUq7Px",
        "outputId": "6909ce39-06bf-4d0b-b34c-708453a40e6b"
      },
      "execution_count": null,
      "outputs": [
        {
          "output_type": "stream",
          "name": "stdout",
          "text": [
            "['manzana', 'pera', 'limon', 'aguacate', 'mango', 'uva', 'lulo']\n"
          ]
        }
      ]
    },
    {
      "cell_type": "code",
      "source": [
        "##My own example 39:\n",
        "\n",
        "lista = [\"manzana\", \"pera\", \"limon\", \"aguacate\", \"mango\", \"uva\"]\n",
        "lista2 = [\"carro\", \"moto\", \"bicicleta\"]\n",
        "lista.extend(lista2)\n",
        "\n",
        "print (lista)  ##extender una lista con otra lista"
      ],
      "metadata": {
        "colab": {
          "base_uri": "https://localhost:8080/"
        },
        "id": "nUwfRFTHrMJt",
        "outputId": "f95a25b7-cd97-419a-e799-1952a4eb07e0"
      },
      "execution_count": null,
      "outputs": [
        {
          "output_type": "stream",
          "name": "stdout",
          "text": [
            "['manzana', 'pera', 'limon', 'aguacate', 'mango', 'uva', 'carro', 'moto', 'bicicleta']\n"
          ]
        }
      ]
    },
    {
      "cell_type": "code",
      "source": [
        "##My own example 40:\n",
        "\n",
        "lista = [\"manzana\", \"pera\", \"limon\", \"aguacate\", \"mango\", \"uva\"]\n",
        "lista.remove(\"pera\")\n",
        "\n",
        "print (lista)  ##remover un elemento de una lista"
      ],
      "metadata": {
        "colab": {
          "base_uri": "https://localhost:8080/"
        },
        "id": "VVfPoyLsrf7V",
        "outputId": "8ef96de0-9a6c-4686-e11d-a3b253c04f39"
      },
      "execution_count": null,
      "outputs": [
        {
          "output_type": "stream",
          "name": "stdout",
          "text": [
            "['manzana', 'limon', 'aguacate', 'mango', 'uva']\n"
          ]
        }
      ]
    },
    {
      "cell_type": "code",
      "source": [
        "##My own example 41:\n",
        "\n",
        "lista = [\"manzana\", \"pera\", \"limon\", \"aguacate\", \"mango\", \"uva\"]\n",
        "lista.pop(1)\n",
        "\n",
        "print (lista)  ##remover un elemento de una lista v2"
      ],
      "metadata": {
        "colab": {
          "base_uri": "https://localhost:8080/"
        },
        "id": "h_KeB52Tr0yy",
        "outputId": "bbfece5a-3ca0-4cb3-8072-557bc4e6d50d"
      },
      "execution_count": null,
      "outputs": [
        {
          "output_type": "stream",
          "name": "stdout",
          "text": [
            "['manzana', 'limon', 'aguacate', 'mango', 'uva']\n"
          ]
        }
      ]
    },
    {
      "cell_type": "code",
      "source": [
        "##My own example 42:\n",
        "\n",
        "lista = [\"manzana\", \"pera\", \"limon\", \"aguacate\", \"mango\", \"uva\"]\n",
        "del lista[0]\n",
        "\n",
        "print (lista)  ##remover un elemento de una lista v3"
      ],
      "metadata": {
        "colab": {
          "base_uri": "https://localhost:8080/"
        },
        "id": "ZIbbcFOlr40A",
        "outputId": "ec70cc12-7879-44b5-98ff-33fa2d2b8a49"
      },
      "execution_count": null,
      "outputs": [
        {
          "output_type": "stream",
          "name": "stdout",
          "text": [
            "['pera', 'limon', 'aguacate', 'mango', 'uva']\n"
          ]
        }
      ]
    },
    {
      "cell_type": "code",
      "source": [
        "##My own example 43:\n",
        "\n",
        "lista = [\"manzana\", \"pera\", \"limon\", \"aguacate\", \"mango\", \"uva\"]\n",
        "lista.clear()\n",
        "\n",
        "print (lista)  ##remover todo de una lista"
      ],
      "metadata": {
        "colab": {
          "base_uri": "https://localhost:8080/"
        },
        "id": "QaeWDlLxsGv0",
        "outputId": "d79238f6-ac03-4200-9c8f-6194820dbe4b"
      },
      "execution_count": null,
      "outputs": [
        {
          "output_type": "stream",
          "name": "stdout",
          "text": [
            "[]\n"
          ]
        }
      ]
    },
    {
      "cell_type": "code",
      "source": [
        "##My own example 44:\n",
        "\n",
        "lista = [\"manzana\", \"pera\", \"limon\", \"aguacate\", \"mango\", \"uva\"]\n",
        "for x in lista:\n",
        "  print (x)  ##imprimir en loop una lista"
      ],
      "metadata": {
        "colab": {
          "base_uri": "https://localhost:8080/"
        },
        "id": "DdnKbRYksS37",
        "outputId": "4e982e27-1399-42a3-fbe8-b52aa3358d32"
      },
      "execution_count": null,
      "outputs": [
        {
          "output_type": "stream",
          "name": "stdout",
          "text": [
            "manzana\n",
            "pera\n",
            "limon\n",
            "aguacate\n",
            "mango\n",
            "uva\n"
          ]
        }
      ]
    },
    {
      "cell_type": "code",
      "source": [
        "##My own example 45:\n",
        "\n",
        "lista = [\"manzana\", \"pera\", \"limon\", \"aguacate\", \"mango\", \"uva\"]\n",
        "for i in range(len(lista)):  ##usamos len para utilizar el tamaño de una lista y luego lo imprimimos segun su posicion\n",
        "  print(lista[i])  ##imprimir en loop una lista v2"
      ],
      "metadata": {
        "colab": {
          "base_uri": "https://localhost:8080/"
        },
        "id": "Wu6zhcl9sn6j",
        "outputId": "ea592d7b-0865-45f5-ed9e-664ed61a4b29"
      },
      "execution_count": null,
      "outputs": [
        {
          "output_type": "stream",
          "name": "stdout",
          "text": [
            "manzana\n",
            "pera\n",
            "limon\n",
            "aguacate\n",
            "mango\n",
            "uva\n"
          ]
        }
      ]
    },
    {
      "cell_type": "code",
      "source": [
        "##My own example 46:\n",
        "\n",
        "lista = [\"manzana\", \"pera\", \"limon\", \"aguacate\", \"mango\", \"uva\"]\n",
        "i = 0\n",
        "while i < len(lista):\n",
        "  print(lista[i])\n",
        "  i = i + 1    ##imprimir en loop una lista v3, utlizamos una variable y un while, mientras sea menor al tamaño de la lista imprimira el elemento de cada posicion"
      ],
      "metadata": {
        "colab": {
          "base_uri": "https://localhost:8080/"
        },
        "id": "bUW41azIsz1n",
        "outputId": "169b1266-7d47-465c-8866-b28d2193bfe6"
      },
      "execution_count": null,
      "outputs": [
        {
          "output_type": "stream",
          "name": "stdout",
          "text": [
            "manzana\n",
            "pera\n",
            "limon\n",
            "aguacate\n",
            "mango\n",
            "uva\n"
          ]
        }
      ]
    },
    {
      "cell_type": "code",
      "source": [
        "##My own example 47:\n",
        "\n",
        "lista = [\"manzana\", \"pera\", \"limon\", \"aguacate\", \"mango\", \"lulo\"]\n",
        "nuevalista = []\n",
        "\n",
        "for x in lista:\n",
        "  if \"a\" in x:\n",
        "    nuevalista.append(x)\n",
        "\n",
        "print (nuevalista)  ##añadimos elementos a una nueva lista dependiendo si el elemento posee la letra a"
      ],
      "metadata": {
        "colab": {
          "base_uri": "https://localhost:8080/"
        },
        "id": "NYNogBqptWRq",
        "outputId": "05340a25-4437-419c-9c0c-562f682cbcc1"
      },
      "execution_count": null,
      "outputs": [
        {
          "output_type": "stream",
          "name": "stdout",
          "text": [
            "['manzana', 'pera', 'aguacate', 'mango']\n"
          ]
        }
      ]
    },
    {
      "cell_type": "code",
      "source": [
        "##My own example 48:\n",
        "\n",
        "lista = [\"manzana\", \"pera\", \"limon\", \"aguacate\", \"mango\", \"lulo\"]\n",
        "nuevalista = [x for x in lista if \"e\" in x]\n",
        "\n",
        "print (nuevalista)  ##añadimos elementos a una nueva lista dependiendo si el elemento posee la letra e \n"
      ],
      "metadata": {
        "colab": {
          "base_uri": "https://localhost:8080/"
        },
        "id": "n8xBJnWlt1hw",
        "outputId": "1aa0c45e-ed58-4677-8ada-5358d143e338"
      },
      "execution_count": null,
      "outputs": [
        {
          "output_type": "stream",
          "name": "stdout",
          "text": [
            "['pera', 'aguacate']\n"
          ]
        }
      ]
    },
    {
      "cell_type": "code",
      "source": [
        "##My own example 49:\n",
        "\n",
        "lista = [\"manzana\", \"pera\", \"limon\", \"aguacate\", \"mango\", \"lulo\"]\n",
        "nuevalista = [x for x in lista if x != \"limon\"]\n",
        "\n",
        "print (nuevalista)  ##añadimos los elementos de una lista a otra exceptuando el elemento limon"
      ],
      "metadata": {
        "colab": {
          "base_uri": "https://localhost:8080/"
        },
        "id": "hFj3D-9SudaU",
        "outputId": "306b1ba8-765e-46a4-d2f5-b11ad612c888"
      },
      "execution_count": null,
      "outputs": [
        {
          "output_type": "stream",
          "name": "stdout",
          "text": [
            "['manzana', 'pera', 'aguacate', 'mango', 'lulo']\n"
          ]
        }
      ]
    },
    {
      "cell_type": "code",
      "source": [
        "##My own example 50:\n",
        "\n",
        "lista = [\"manzana\", \"pera\", \"limon\", \"aguacate\", \"mango\", \"lulo\"]\n",
        "nuevalista = [x.upper() for x in lista]\n",
        "\n",
        "print (nuevalista)  ##utilizando de nuevo el .upper pero en toda una lista"
      ],
      "metadata": {
        "colab": {
          "base_uri": "https://localhost:8080/"
        },
        "id": "yv32mL8_uusu",
        "outputId": "bc0f43cb-4bd7-42d0-ecdd-e7753c2854ad"
      },
      "execution_count": null,
      "outputs": [
        {
          "output_type": "stream",
          "name": "stdout",
          "text": [
            "['MANZANA', 'PERA', 'LIMON', 'AGUACATE', 'MANGO', 'LULO']\n"
          ]
        }
      ]
    },
    {
      "cell_type": "code",
      "source": [
        "##My own example 51:\n",
        "\n",
        "lista = [\"manzana\", \"pera\", \"limon\", \"aguacate\", \"mango\", \"lulo\"]\n",
        "lista.sort()\n",
        "\n",
        "print (lista)  ##ordenamos una lista de manera alfabetica con .sort()"
      ],
      "metadata": {
        "colab": {
          "base_uri": "https://localhost:8080/"
        },
        "id": "Cw3rlnDyvBfh",
        "outputId": "75141676-9ce3-4e5a-c53f-8af107242557"
      },
      "execution_count": null,
      "outputs": [
        {
          "output_type": "stream",
          "name": "stdout",
          "text": [
            "['aguacate', 'limon', 'lulo', 'mango', 'manzana', 'pera']\n"
          ]
        }
      ]
    },
    {
      "cell_type": "code",
      "source": [
        "##My own example 52:\n",
        "\n",
        "lista = [\"manzana\", \"pera\", \"limon\", \"aguacate\", \"mango\", \"lulo\"]\n",
        "lista.sort(reverse = True)\n",
        "\n",
        "print (lista)  ##ordenamos una lista de manera alfabetica con .sort() pero ahora al reves"
      ],
      "metadata": {
        "colab": {
          "base_uri": "https://localhost:8080/"
        },
        "id": "-Kv9E5XAvXEH",
        "outputId": "195d5668-a1b2-4d64-b55c-13e26d8d8209"
      },
      "execution_count": null,
      "outputs": [
        {
          "output_type": "stream",
          "name": "stdout",
          "text": [
            "['pera', 'manzana', 'mango', 'lulo', 'limon', 'aguacate']\n"
          ]
        }
      ]
    },
    {
      "cell_type": "code",
      "source": [
        "##My own example 53:\n",
        "\n",
        "lista = [\"manzana\", \"pera\", \"limon\", \"aguacate\", \"mango\", \"lulo\", \"manzana\"]\n",
        "q = lista.count(\"manzana\")\n",
        "\n",
        "print (q)   ##numero de veces que aparece un elemento en una lista"
      ],
      "metadata": {
        "id": "fcXsq-2YvktH",
        "colab": {
          "base_uri": "https://localhost:8080/"
        },
        "outputId": "6ff420a4-c205-47c9-b64d-cd8af9ef56b4"
      },
      "execution_count": null,
      "outputs": [
        {
          "output_type": "stream",
          "name": "stdout",
          "text": [
            "2\n"
          ]
        }
      ]
    },
    {
      "cell_type": "code",
      "source": [
        "##My own example 54:\n",
        "\n",
        "set1 =  {1,2,3,4,5,6,7}\n",
        "\n",
        "print(type(set1))   ##usamos la clase set"
      ],
      "metadata": {
        "colab": {
          "base_uri": "https://localhost:8080/"
        },
        "id": "jI0eXpMYOhho",
        "outputId": "85ead94c-a405-4ce1-9573-bdb7f7f23c8a"
      },
      "execution_count": null,
      "outputs": [
        {
          "output_type": "stream",
          "name": "stdout",
          "text": [
            "<class 'set'>\n"
          ]
        }
      ]
    },
    {
      "cell_type": "code",
      "source": [
        "##My own example 55:\n",
        "\n",
        "tupla = (\"harold\",)\n",
        "print(type(tupla))  ##uso de la clase tupla\n",
        "\n",
        "nottuple = (\"unal\")\n",
        "print(type(nottuple))  ##no es una tupla, marcamos la diferencia"
      ],
      "metadata": {
        "colab": {
          "base_uri": "https://localhost:8080/"
        },
        "id": "2AGaY62qPBwo",
        "outputId": "b049fa2d-93c4-45e4-ce37-3baba66a7713"
      },
      "execution_count": null,
      "outputs": [
        {
          "output_type": "stream",
          "name": "stdout",
          "text": [
            "<class 'tuple'>\n",
            "<class 'str'>\n"
          ]
        }
      ]
    },
    {
      "cell_type": "code",
      "source": [
        "##My own example 56:\n",
        "\n",
        "set1 = {1,2,3,4,5,6,7}\n",
        "set1.add(8)\n",
        "\n",
        "print(set1)  ##como añadir elementos a un set con add, solo uno a la vez"
      ],
      "metadata": {
        "colab": {
          "base_uri": "https://localhost:8080/"
        },
        "id": "cQGgPAKfPeHa",
        "outputId": "caf23131-4ac4-4751-c69b-cd5feb06cfe6"
      },
      "execution_count": null,
      "outputs": [
        {
          "output_type": "stream",
          "name": "stdout",
          "text": [
            "{1, 2, 3, 4, 5, 6, 7, 8}\n"
          ]
        }
      ]
    },
    {
      "cell_type": "code",
      "source": [
        "##My own example 57:\n",
        "\n",
        "set1 = {1,2,3,4,5,6,7}\n",
        "set2 = {8,9,10}\n",
        "\n",
        "set1.update(set2)\n",
        "\n",
        "print(set1)  ##añadimos mas elementos al set con update"
      ],
      "metadata": {
        "colab": {
          "base_uri": "https://localhost:8080/"
        },
        "id": "--o6wAxqQUcS",
        "outputId": "ba6ec5ab-8d2f-4777-92e5-6beea4ad9aab"
      },
      "execution_count": null,
      "outputs": [
        {
          "output_type": "stream",
          "name": "stdout",
          "text": [
            "{1, 2, 3, 4, 5, 6, 7, 8, 9, 10}\n"
          ]
        }
      ]
    },
    {
      "cell_type": "code",
      "source": [
        "##My own example 58:\n",
        "\n",
        "set1 = {1,2,3,4,5,6,7}\n",
        "set1.remove(1)\n",
        "\n",
        "print(set1)  ##removemos elementos con remove"
      ],
      "metadata": {
        "colab": {
          "base_uri": "https://localhost:8080/"
        },
        "id": "4jt-k7leQox0",
        "outputId": "15fba909-efe6-4d36-fc83-307547a0be39"
      },
      "execution_count": null,
      "outputs": [
        {
          "output_type": "stream",
          "name": "stdout",
          "text": [
            "{2, 3, 4, 5, 6, 7}\n"
          ]
        }
      ]
    },
    {
      "cell_type": "code",
      "source": [
        "##My own example 59:\n",
        "\n",
        "set1 = {1,2,3,4,5,6,7}\n",
        "\n",
        "set1.discard(1)\n",
        "\n",
        "print(set1)  ##removemos elementos con discard"
      ],
      "metadata": {
        "colab": {
          "base_uri": "https://localhost:8080/"
        },
        "id": "COFIVS78QyUD",
        "outputId": "cf77c56d-8bee-434a-b7ad-134773548812"
      },
      "execution_count": null,
      "outputs": [
        {
          "output_type": "stream",
          "name": "stdout",
          "text": [
            "{2, 3, 4, 5, 6, 7}\n"
          ]
        }
      ]
    },
    {
      "cell_type": "code",
      "source": [
        "##My own example 60:\n",
        "\n",
        "set1 = {1,2,3,4,5,6,7}\n",
        "\n",
        "x = set1.pop()\n",
        "\n",
        "print(x)  ##por ultimo probamos la funcion pop para remover el primer elemento\n",
        "print (set1)"
      ],
      "metadata": {
        "colab": {
          "base_uri": "https://localhost:8080/"
        },
        "id": "mUKtrZbiQ8K9",
        "outputId": "328b5d2d-a5aa-4c72-fb65-030aa44dbf55"
      },
      "execution_count": null,
      "outputs": [
        {
          "output_type": "stream",
          "name": "stdout",
          "text": [
            "1\n",
            "{2, 3, 4, 5, 6, 7}\n"
          ]
        }
      ]
    },
    {
      "cell_type": "code",
      "source": [
        "##My own example 61:\n",
        "\n",
        "set1 = {\"a\", \"b\" , \"c\"}\n",
        "set2 = {1, 2, 3}\n",
        "\n",
        "set3 = set1.union(set2)  ##probamos la funcion union entre sets\n",
        "print(set3)"
      ],
      "metadata": {
        "colab": {
          "base_uri": "https://localhost:8080/"
        },
        "id": "Iv9w-xUNRaUk",
        "outputId": "46cba7fa-d345-4cd0-bba1-ed56cb5def2c"
      },
      "execution_count": null,
      "outputs": [
        {
          "output_type": "stream",
          "name": "stdout",
          "text": [
            "{1, 2, 3, 'b', 'a', 'c'}\n"
          ]
        }
      ]
    },
    {
      "cell_type": "code",
      "source": [
        "##My own example 62:\n",
        "\n",
        "dict1 = {\n",
        "    \"marca\": \"ford\",\n",
        "    \"modelo\": \"mustang\",\n",
        "    \"año\": 2022\n",
        "}\n",
        "\n",
        "m = dict1.get(\"marca\")\n",
        "\n",
        "print(m)   ##hacemos uso de los diccionarios en python para guardar datos"
      ],
      "metadata": {
        "colab": {
          "base_uri": "https://localhost:8080/"
        },
        "id": "V3r2JPPLRc1z",
        "outputId": "b5fbc6c3-6602-4b1d-fc22-b725df1bdeca"
      },
      "execution_count": null,
      "outputs": [
        {
          "output_type": "stream",
          "name": "stdout",
          "text": [
            "ford\n"
          ]
        }
      ]
    },
    {
      "cell_type": "code",
      "source": [
        "##My own example 63:\n",
        "\n",
        "dict1 = {\n",
        "    \"marca\": \"ford\",\n",
        "    \"modelo\": \"mustang\",\n",
        "    \"año\": 2022\n",
        "}\n",
        "\n",
        "m = dict1.keys()\n",
        "\n",
        "print(m) ##aprendemos que la funcion keys nos devuelve la lista de llaves del diccionario"
      ],
      "metadata": {
        "colab": {
          "base_uri": "https://localhost:8080/"
        },
        "id": "DhsRSQ9ESZGy",
        "outputId": "676dfb12-695c-4376-9e81-8e5901172bb7"
      },
      "execution_count": null,
      "outputs": [
        {
          "output_type": "stream",
          "name": "stdout",
          "text": [
            "dict_keys(['marca', 'modelo', 'año'])\n"
          ]
        }
      ]
    },
    {
      "cell_type": "code",
      "source": [
        "##My own example 64:\n",
        "\n",
        "dict1 = {\n",
        "    \"marca\": \"ford\",\n",
        "    \"modelo\": \"mustang\",\n",
        "    \"año\": 2022\n",
        "}\n",
        "\n",
        "dict1[\"color\"] = \"negro\"  ##añadimos una llave y su valor al diccionario\n",
        "m = dict1.keys()\n",
        "n = dict1.get(\"color\")\n",
        "\n",
        "print(m, \"\\n\", \"el color es: \" + n)"
      ],
      "metadata": {
        "colab": {
          "base_uri": "https://localhost:8080/"
        },
        "id": "BVay3fFFSlWK",
        "outputId": "9e774b27-6864-4810-b557-53c2885eb1b7"
      },
      "execution_count": null,
      "outputs": [
        {
          "output_type": "stream",
          "name": "stdout",
          "text": [
            "dict_keys(['marca', 'modelo', 'año', 'color']) \n",
            " el color es: negro\n"
          ]
        }
      ]
    },
    {
      "cell_type": "code",
      "source": [
        "##My own example 65:\n",
        "\n",
        "dict1 = {\n",
        "    \"marca\": \"ford\",\n",
        "    \"modelo\": \"mustang\",\n",
        "    \"año\": 2022\n",
        "}\n",
        "\n",
        "m = dict1.values()\n",
        "\n",
        "print(m)  ##aprendemos que la funcion values nos devuelve los valores de las llaves del diccinario"
      ],
      "metadata": {
        "colab": {
          "base_uri": "https://localhost:8080/"
        },
        "id": "Lmy3Z4K1Tf7d",
        "outputId": "31341d60-cbc0-4efa-bb5e-c05719c6dfb0"
      },
      "execution_count": null,
      "outputs": [
        {
          "output_type": "stream",
          "name": "stdout",
          "text": [
            "dict_values(['ford', 'mustang', 2022])\n"
          ]
        }
      ]
    },
    {
      "cell_type": "code",
      "source": [
        "##My own example 66:\n",
        "\n",
        "dict1 = {\n",
        "    \"marca\": \"ford\",\n",
        "    \"modelo\": \"mustang\",\n",
        "    \"año\": 2022\n",
        "}\n",
        "\n",
        "m = dict1.items()\n",
        "\n",
        "print(m)  ##por ultimo la funcion items nos devuelve el diccionario usando cada llave con su respectivo valor"
      ],
      "metadata": {
        "colab": {
          "base_uri": "https://localhost:8080/"
        },
        "id": "hKNqa8-dT0MW",
        "outputId": "f79c1271-7bee-4835-c157-159b1dfa6917"
      },
      "execution_count": null,
      "outputs": [
        {
          "output_type": "stream",
          "name": "stdout",
          "text": [
            "dict_items([('marca', 'ford'), ('modelo', 'mustang'), ('año', 2022)])\n"
          ]
        }
      ]
    },
    {
      "cell_type": "code",
      "source": [
        "##My own example 67:\n",
        "\n",
        "dict1 = {\n",
        "    \"marca\": \"ford\",\n",
        "    \"modelo\": \"mustang\",\n",
        "    \"año\": 2022\n",
        "}\n",
        "\n",
        "m = dict1.copy()\n",
        "\n",
        "print(m)  ##utilizamos la funcion copy para copiar el diccionario de una variable a otra"
      ],
      "metadata": {
        "colab": {
          "base_uri": "https://localhost:8080/"
        },
        "id": "i_86WaspUF_F",
        "outputId": "7287ea6e-5191-4eb4-ce95-b6b17eade32d"
      },
      "execution_count": null,
      "outputs": [
        {
          "output_type": "stream",
          "name": "stdout",
          "text": [
            "{'marca': 'ford', 'modelo': 'mustang', 'año': 2022}\n"
          ]
        }
      ]
    },
    {
      "cell_type": "code",
      "source": [
        "##My own example 68:\n",
        "\n",
        "dict1 = {\n",
        "    \"auto1\": {\n",
        "    \"marca\": \"ford\",\n",
        "    \"modelo\": \"mustang\",\n",
        "    \"año\": 2022\n",
        "    },\n",
        "    \"auto2\": {\n",
        "    \"marca\" : \"chevrolet\",\n",
        "    \"modelo\" : \"camaro\",\n",
        "    \"año\": 2021\n",
        "    },\n",
        "    \"auto3\": {\n",
        "    \"marca\" : \"subaru\",\n",
        "    \"modelo\" : \"impreza\",\n",
        "    \"año\": 2023\n",
        "    }\n",
        "}\n",
        "\n",
        "miscarros = {\n",
        "    \"auto1\" : dict1.get(\"auto1\"),\n",
        "    \"auto2\" : dict1.get(\"auto2\"),\n",
        "    \"auto3\" : dict1.get(\"auto3\")\n",
        "}\n",
        "\n",
        "print(miscarros)  ##uso de diccionarios anidados"
      ],
      "metadata": {
        "colab": {
          "base_uri": "https://localhost:8080/"
        },
        "id": "eKcRDdl_Uezf",
        "outputId": "e302a080-6437-446b-e2a2-4b6209b4a24b"
      },
      "execution_count": null,
      "outputs": [
        {
          "output_type": "stream",
          "name": "stdout",
          "text": [
            "{'auto1': {'marca': 'ford', 'modelo': 'mustang', 'año': 2022}, 'auto2': {'marca': 'chevrolet', 'modelo': 'camaro', 'año': 2021}, 'auto3': {'marca': 'subaru', 'modelo': 'impreza', 'año': 2023}}\n"
          ]
        }
      ]
    },
    {
      "cell_type": "code",
      "source": [
        "##My own example 69:\n",
        "a = 10\n",
        "b = 10\n",
        "if b > a:\n",
        "  print(\"b es mas grande que a a\")\n",
        "elif a == b:\n",
        "  print(\"a y b son iguales\")  ##uso del elif"
      ],
      "metadata": {
        "colab": {
          "base_uri": "https://localhost:8080/"
        },
        "id": "b4ODuNyNWAfh",
        "outputId": "9926bf7a-8bb0-4417-c9fd-e103976cb8c1"
      },
      "execution_count": null,
      "outputs": [
        {
          "output_type": "stream",
          "name": "stdout",
          "text": [
            "a y b son iguales\n"
          ]
        }
      ]
    },
    {
      "cell_type": "code",
      "source": [
        "##My own example 70:\n",
        "\n",
        "i = 1\n",
        "while i < 10:\n",
        "  print(i)\n",
        "  if i == 5:\n",
        "    break\n",
        "  i += 1  ##uso del while lopp y el break"
      ],
      "metadata": {
        "colab": {
          "base_uri": "https://localhost:8080/"
        },
        "id": "ny1Y1k0SWNbo",
        "outputId": "dc59ac47-b6d2-4921-f54f-5119ea5c6d81"
      },
      "execution_count": null,
      "outputs": [
        {
          "output_type": "stream",
          "name": "stdout",
          "text": [
            "1\n",
            "2\n",
            "3\n",
            "4\n",
            "5\n"
          ]
        }
      ]
    },
    {
      "cell_type": "code",
      "source": [
        "##My own example 71:\n",
        "\n",
        "adj = [\"rojo\", \"grande\", \"deliciosa\"]\n",
        "frutas = [\"manzana\", \"banana\", \"fresa\"]\n",
        "\n",
        "for x in adj:\n",
        "  for y in frutas:\n",
        "    print(x, y)  ##uso del for anidado"
      ],
      "metadata": {
        "colab": {
          "base_uri": "https://localhost:8080/"
        },
        "id": "FQTkZVfLWdRr",
        "outputId": "9d6451a1-e98b-4ed8-c74f-415574350f74"
      },
      "execution_count": null,
      "outputs": [
        {
          "output_type": "stream",
          "name": "stdout",
          "text": [
            "rojo manzana\n",
            "rojo banana\n",
            "rojo fresa\n",
            "grande manzana\n",
            "grande banana\n",
            "grande fresa\n",
            "deliciosa manzana\n",
            "deliciosa banana\n",
            "deliciosa fresa\n"
          ]
        }
      ]
    },
    {
      "cell_type": "code",
      "source": [
        "##My own example 72:\n",
        "\n",
        "def mifuncion(*ninos):  ##si desconocemos el nombre de una variable, utilizamos el *antes de nombrarla en el parametro\n",
        "  print(\"el nino mas joven es \" + ninos[2])\n",
        "\n",
        "mifuncion(\"Carlos\", \"Tobias\", \"Juan\")\n"
      ],
      "metadata": {
        "colab": {
          "base_uri": "https://localhost:8080/"
        },
        "id": "rGbIuT2qYxYa",
        "outputId": "f3fed959-f77b-4d57-9819-01cac655760a"
      },
      "execution_count": null,
      "outputs": [
        {
          "output_type": "stream",
          "name": "stdout",
          "text": [
            "el nino mas joven es Juan\n"
          ]
        }
      ]
    },
    {
      "cell_type": "code",
      "source": [
        "##My own example 73:\n",
        "\n",
        "def mifuncion(**ninos):  ##si desconocemos el numeros de variables, utilizamos el **antes de nombrarla en el parametro\n",
        "  print(\"el apellido es \" + ninos[\"Papellido\"])  ##llamamos a la variable entre comillas\n",
        "\n",
        "mifuncion(Pnombre = \"Harold\", Papellido = \"Velazco\")"
      ],
      "metadata": {
        "colab": {
          "base_uri": "https://localhost:8080/"
        },
        "id": "wF_Rojq3ZfvK",
        "outputId": "2eece860-571e-4ad7-9679-aa4feeff39e3"
      },
      "execution_count": null,
      "outputs": [
        {
          "output_type": "stream",
          "name": "stdout",
          "text": [
            "el apellido es Velazco\n"
          ]
        }
      ]
    },
    {
      "cell_type": "code",
      "source": [
        "##My own example 74:\n",
        "def mifuncion(z):\n",
        "  return 3 * z   ##retorno de valores de una funcion\n",
        "\n",
        "print(mifuncion(5))\n",
        "print(mifuncion(10))\n",
        "print(mifuncion(15))\n"
      ],
      "metadata": {
        "colab": {
          "base_uri": "https://localhost:8080/"
        },
        "id": "xhipLWg9aSgY",
        "outputId": "c6722bde-4ade-44b8-a5cf-f0b31f7c2d55"
      },
      "execution_count": null,
      "outputs": [
        {
          "output_type": "stream",
          "name": "stdout",
          "text": [
            "15\n",
            "30\n",
            "45\n"
          ]
        }
      ]
    },
    {
      "cell_type": "code",
      "source": [
        "##My own example 74:\n",
        "def mifuncion():  ##una funcion no puede estar vacia, por lo tanto utilizamos el pass para evitar tener un error\n",
        "  pass"
      ],
      "metadata": {
        "id": "DvJ7adZWauVI"
      },
      "execution_count": null,
      "outputs": []
    },
    {
      "cell_type": "code",
      "source": [
        "##My own example 75:\n",
        "\n",
        "x = lambda a: a + 10\n",
        "print(x(10))  ##uso de la funcion lambda"
      ],
      "metadata": {
        "colab": {
          "base_uri": "https://localhost:8080/"
        },
        "id": "qfx0l-o5bBY7",
        "outputId": "91fd3611-1176-4ee5-af36-2a6c71d26784"
      },
      "execution_count": null,
      "outputs": [
        {
          "output_type": "stream",
          "name": "stdout",
          "text": [
            "20\n"
          ]
        }
      ]
    },
    {
      "cell_type": "code",
      "source": [
        "##My own example 76:\n",
        "\n",
        "x = lambda a, b: a + b\n",
        "print(x(10,5))  ##uso de la funcion lambda para hacer operaciones"
      ],
      "metadata": {
        "colab": {
          "base_uri": "https://localhost:8080/"
        },
        "id": "EQ2iOFMRdD61",
        "outputId": "fcd4ad34-c0ba-4d25-dee5-19dcb6769296"
      },
      "execution_count": null,
      "outputs": [
        {
          "output_type": "stream",
          "name": "stdout",
          "text": [
            "15\n"
          ]
        }
      ]
    },
    {
      "cell_type": "code",
      "source": [
        "##My own example 77:\n",
        "def recursion(n):\n",
        "  if(n > 0):\n",
        "    result =  n + recursion(n - 1)  ##vamos a empezar con n=1 y lo sumamos con el valor de n-1\n",
        "    print(result)\n",
        "  else:\n",
        "    result = 0\n",
        "  return result\n",
        "\n",
        "print(\"\\n\\nResultador de recursion\")  ##el resultado siguiente sera el n mas la posicion anterior de n\n",
        "recursion(10) ##ejecutamos la recursion 10 veces, se decrementa en 1 cada vez que se ejecuta"
      ],
      "metadata": {
        "colab": {
          "base_uri": "https://localhost:8080/"
        },
        "id": "YvFa-mjQe6wj",
        "outputId": "b4767b57-25de-4e46-82ee-929760cb06ff"
      },
      "execution_count": null,
      "outputs": [
        {
          "output_type": "stream",
          "name": "stdout",
          "text": [
            "\n",
            "\n",
            "Resultador de recursion\n",
            "1\n",
            "3\n",
            "6\n",
            "10\n",
            "15\n",
            "21\n",
            "28\n",
            "36\n",
            "45\n",
            "55\n"
          ]
        },
        {
          "output_type": "execute_result",
          "data": {
            "text/plain": [
              "55"
            ]
          },
          "metadata": {},
          "execution_count": 294
        }
      ]
    },
    {
      "cell_type": "code",
      "source": [
        "##My own example 78:\n",
        "def mifuncion(n):\n",
        "  return lambda a : a * n\n",
        "\n",
        "midouble = mifuncion(2)\n",
        "\n",
        "print(midouble(10))  ##uso del lambda dentro de una funcion que multiplica el doble con el numero n de la funcion"
      ],
      "metadata": {
        "colab": {
          "base_uri": "https://localhost:8080/"
        },
        "id": "3guHkL6hiLc4",
        "outputId": "458bd3c6-2bb7-41b6-9226-a30c497be273"
      },
      "execution_count": null,
      "outputs": [
        {
          "output_type": "stream",
          "name": "stdout",
          "text": [
            "20\n"
          ]
        }
      ]
    },
    {
      "cell_type": "code",
      "source": [
        "##My own example 79:\n",
        "\n",
        "class miclase:\n",
        "  x=10\n",
        "\n",
        "print(miclase)  ##uso de clases"
      ],
      "metadata": {
        "colab": {
          "base_uri": "https://localhost:8080/"
        },
        "id": "Jb1xAV0uidbQ",
        "outputId": "a157056f-2344-432c-bbe2-fecef6d4d468"
      },
      "execution_count": null,
      "outputs": [
        {
          "output_type": "stream",
          "name": "stdout",
          "text": [
            "<class '__main__.miclase'>\n"
          ]
        }
      ]
    },
    {
      "cell_type": "code",
      "source": [
        "##My own example 80:\n",
        "\n",
        "class miclase:\n",
        "  x=10\n",
        "\n",
        "p1=miclase()\n",
        "print(p1.x)  ##creamos un objeto de la clase y asignamos el valor de x"
      ],
      "metadata": {
        "colab": {
          "base_uri": "https://localhost:8080/"
        },
        "id": "be6Z5g0CjB18",
        "outputId": "41a2e874-b2da-4b23-973b-20e25e91d23f"
      },
      "execution_count": null,
      "outputs": [
        {
          "output_type": "stream",
          "name": "stdout",
          "text": [
            "10\n"
          ]
        }
      ]
    },
    {
      "cell_type": "code",
      "source": [
        "##My own example 81:\n",
        "class Persona:  ##uso de clase con funciones\n",
        "  def __init__(self, name, age):  ##uso de la funcion init\n",
        "    self.name = name\n",
        "    self.age = age\n",
        "\n",
        "  def mifunc(self):\n",
        "    print(\"Hola mi nombre es:  \" + self.name)\n",
        "\n",
        "p1 = Persona(\"Harold\", 23)\n",
        "p1.mifunc()"
      ],
      "metadata": {
        "colab": {
          "base_uri": "https://localhost:8080/"
        },
        "id": "MbeKgfzkjb1t",
        "outputId": "3381c824-c3aa-407e-d644-a3a6a1994b73"
      },
      "execution_count": null,
      "outputs": [
        {
          "output_type": "stream",
          "name": "stdout",
          "text": [
            "Hola mi nombre es:  Harold\n"
          ]
        }
      ]
    },
    {
      "cell_type": "code",
      "source": [
        "##My own example 82:\n",
        "for i in range(1,100):\n",
        "  if ((i%2)==0):\n",
        "    print(i)  ## programa que nos muestra los numeros pares de 1 a 100"
      ],
      "metadata": {
        "colab": {
          "base_uri": "https://localhost:8080/"
        },
        "id": "1ZcYqAnTk_4v",
        "outputId": "41a9558b-1941-4ec7-9d62-1f05ae5f7577"
      },
      "execution_count": null,
      "outputs": [
        {
          "output_type": "stream",
          "name": "stdout",
          "text": [
            "2\n",
            "4\n",
            "6\n",
            "8\n",
            "10\n",
            "12\n",
            "14\n",
            "16\n",
            "18\n",
            "20\n",
            "22\n",
            "24\n",
            "26\n",
            "28\n",
            "30\n",
            "32\n",
            "34\n",
            "36\n",
            "38\n",
            "40\n",
            "42\n",
            "44\n",
            "46\n",
            "48\n",
            "50\n",
            "52\n",
            "54\n",
            "56\n",
            "58\n",
            "60\n",
            "62\n",
            "64\n",
            "66\n",
            "68\n",
            "70\n",
            "72\n",
            "74\n",
            "76\n",
            "78\n",
            "80\n",
            "82\n",
            "84\n",
            "86\n",
            "88\n",
            "90\n",
            "92\n",
            "94\n",
            "96\n",
            "98\n"
          ]
        }
      ]
    },
    {
      "cell_type": "code",
      "source": [
        "##My own example 83:\n",
        "\n",
        "cadena1 = input(\"escribe una cadena:\")\n",
        "cadena_al_reves = cadena1[::-1]\n",
        "print(cadena_al_reves)\n",
        "if(cadena1 == cadena_al_reves):\n",
        "\tprint(\"es palindromo\")\n",
        "else:\n",
        "\tprint(\"no es palindromo\")  ##programa que nos pide una cadena y nos dice si es palindromo o no"
      ],
      "metadata": {
        "colab": {
          "base_uri": "https://localhost:8080/"
        },
        "id": "GoQSIGRlmiOf",
        "outputId": "c05cd2a8-1baf-4488-fe1d-e77bbd598abd"
      },
      "execution_count": null,
      "outputs": [
        {
          "output_type": "stream",
          "name": "stdout",
          "text": [
            "escribe una cadena:hfgdtghf\n",
            "fhgtdgfh\n",
            "no es palindromo\n"
          ]
        }
      ]
    },
    {
      "cell_type": "code",
      "source": [
        "##My own example 84:\n",
        "\n",
        "numero_binario = input(\"ingresa el numero binario: \")\n",
        "\n",
        "numero_decimal = 0 #aquí iremos sumando el resultado de cada multiplicación\n",
        "\n",
        "for posicion, digito_string in enumerate(numero_binario[::-1]):\n",
        "\tnumero_decimal += int(digito_string) * 2 ** posicion\n",
        "\n",
        "print(f'El número decimal que buscamos es {numero_decimal}')   ##programa que convierte binario a decimal"
      ],
      "metadata": {
        "colab": {
          "base_uri": "https://localhost:8080/"
        },
        "id": "LxflFk0FnUOj",
        "outputId": "e2beb33e-af17-4888-f3c7-7a44647afe61"
      },
      "execution_count": null,
      "outputs": [
        {
          "output_type": "stream",
          "name": "stdout",
          "text": [
            "ingresa el numero binario: 1001\n",
            "El número decimal que buscamos es 9\n"
          ]
        }
      ]
    },
    {
      "cell_type": "code",
      "source": [
        "##My own example 85:\n",
        "\n",
        "import datetime\n",
        "now = datetime.datetime.now()\n",
        "print (\"La fecha y hora actual es : \")\n",
        "print (now.strftime(\"%Y-%m-%d %H:%M:%S\"))  ##imprimimos la fecha y hora actual"
      ],
      "metadata": {
        "colab": {
          "base_uri": "https://localhost:8080/"
        },
        "id": "UKuB7rvwpBKp",
        "outputId": "68f3c1bf-5293-444e-eefd-024a2e65d2a6"
      },
      "execution_count": null,
      "outputs": [
        {
          "output_type": "stream",
          "name": "stdout",
          "text": [
            "La fecha y hora actual es : \n",
            "2022-04-03 22:57:09\n"
          ]
        }
      ]
    },
    {
      "cell_type": "code",
      "source": [
        "##My own example 86:\n",
        "\n",
        "print(bool('tengo una opcion'))\n",
        "print(bool([]))   ##mas ejemplos de booleanos"
      ],
      "metadata": {
        "colab": {
          "base_uri": "https://localhost:8080/"
        },
        "id": "9o8YGQJVpIlu",
        "outputId": "304badc9-6b64-422f-a066-bd90d769455f"
      },
      "execution_count": null,
      "outputs": [
        {
          "output_type": "stream",
          "name": "stdout",
          "text": [
            "True\n",
            "False\n"
          ]
        }
      ]
    },
    {
      "cell_type": "code",
      "source": [
        "##My own example 87:\n",
        "\n",
        "print(bool([1, 2, 3]))  ##el booleano de numeros es true"
      ],
      "metadata": {
        "colab": {
          "base_uri": "https://localhost:8080/"
        },
        "id": "5b6xKM6W9FHH",
        "outputId": "56ea1565-8ad6-49f9-cf4d-f06aa35cfedb"
      },
      "execution_count": null,
      "outputs": [
        {
          "output_type": "stream",
          "name": "stdout",
          "text": [
            "True\n"
          ]
        }
      ]
    },
    {
      "cell_type": "code",
      "source": [
        "##My own example 88:\n",
        "\n",
        "class Person:\n",
        "  def __init__(self, fname, lname):\n",
        "    self.firstname = fname\n",
        "    self.lastname = lname\n",
        "\n",
        "  def printname(self):\n",
        "    print(self.firstname, self.lastname)\n",
        "\n",
        "class Student(Person):\n",
        "  def __init__(self, fname, lname):\n",
        "    super().__init__(fname, lname)\n",
        "\n",
        "x = Student(\"Harold\", \"Velazco\")\n",
        "x.printname()  ##uso del super()"
      ],
      "metadata": {
        "colab": {
          "base_uri": "https://localhost:8080/"
        },
        "id": "dGY3Ud4A9Lmb",
        "outputId": "b5dcfc10-1322-4d4f-febf-92dd736d6ec4"
      },
      "execution_count": null,
      "outputs": [
        {
          "output_type": "stream",
          "name": "stdout",
          "text": [
            "Harold Velazco\n"
          ]
        }
      ]
    },
    {
      "cell_type": "code",
      "source": [
        "##My own example 89:\n",
        "class Person:\n",
        "  def __init__(self, fname, lname):\n",
        "    self.firstname = fname\n",
        "    self.lastname = lname\n",
        "\n",
        "  def printname(self):\n",
        "    print(self.firstname, self.lastname)\n",
        "\n",
        "class Student(Person):\n",
        "  def __init__(self, fname, lname):\n",
        "    super().__init__(fname, lname)\n",
        "    self.graduationyear = 2019\n",
        "\n",
        "x = Student(\"Harold\", \"Velazco\")\n",
        "print(x.graduationyear)  ##añadimos elemetos a la clase usando el super y las variables internas"
      ],
      "metadata": {
        "colab": {
          "base_uri": "https://localhost:8080/"
        },
        "id": "ijvXvyE_9e4G",
        "outputId": "18ac047a-c785-4029-ff6f-c7013152b512"
      },
      "execution_count": null,
      "outputs": [
        {
          "output_type": "stream",
          "name": "stdout",
          "text": [
            "2019\n"
          ]
        }
      ]
    },
    {
      "cell_type": "code",
      "source": [
        "##My own example 90:\n",
        "class Person:\n",
        "  def __init__(self, fname, lname):\n",
        "    self.firstname = fname\n",
        "    self.lastname = lname\n",
        "\n",
        "  def printname(self):\n",
        "    print(self.firstname, self.lastname)\n",
        "\n",
        "class Student(Person):\n",
        "  def __init__(self, fname, lname, year):\n",
        "    super().__init__(fname, lname)\n",
        "    self.graduationyear = year\n",
        "\n",
        "  def welcome(self):\n",
        "    print(\"Welcome\", self.firstname, self.lastname, \"to the class of\", self.graduationyear)\n",
        "\n",
        "x = Student(\"Harold\", \"Velazco\", 2022)  ##añadimos el metodo llamado welcome a la clase estudiante\n",
        "x.welcome()\n"
      ],
      "metadata": {
        "colab": {
          "base_uri": "https://localhost:8080/"
        },
        "id": "mWbl3U5Y940m",
        "outputId": "f5c6ce61-4ef4-4410-d172-77dca9ab1b3c"
      },
      "execution_count": null,
      "outputs": [
        {
          "output_type": "stream",
          "name": "stdout",
          "text": [
            "Welcome Harold Velazco to the class of 2022\n"
          ]
        }
      ]
    },
    {
      "cell_type": "code",
      "source": [
        "##My own example 91: iteradores\n",
        "\n",
        "mitupla = (\"pera\", \"banana\", \"manzana\")\n",
        "miit = iter(mitupla)\n",
        "\n",
        "print(next(miit))\n",
        "print(next(miit))\n",
        "print(next(miit))  ##uso del iterador iter"
      ],
      "metadata": {
        "colab": {
          "base_uri": "https://localhost:8080/"
        },
        "id": "tXb9mB-2-IZV",
        "outputId": "c399c977-a02b-4062-e905-3b282274edaf"
      },
      "execution_count": null,
      "outputs": [
        {
          "output_type": "stream",
          "name": "stdout",
          "text": [
            "pera\n",
            "banana\n",
            "manzana\n"
          ]
        }
      ]
    },
    {
      "cell_type": "code",
      "source": [
        "##My own example 92: iteradores, creando un iterador\n",
        "class MisNumeros:\n",
        "  def __iter__(self):\n",
        "    self.a = 1\n",
        "    return self\n",
        "\n",
        "  def __next__(self):\n",
        "    x = self.a\n",
        "    self.a += 1\n",
        "    return x\n",
        "\n",
        "miClase = MisNumeros()\n",
        "miiter = iter(miClase)\n",
        "\n",
        "print(next(miiter))\n",
        "print(next(miiter))\n",
        "print(next(miiter))\n",
        "print(next(miiter))\n",
        "print(next(miiter))"
      ],
      "metadata": {
        "colab": {
          "base_uri": "https://localhost:8080/"
        },
        "id": "C7H1WntH-tUa",
        "outputId": "bd4c4869-d4a9-4e78-c36c-cfa74dbbc121"
      },
      "execution_count": null,
      "outputs": [
        {
          "output_type": "stream",
          "name": "stdout",
          "text": [
            "1\n",
            "2\n",
            "3\n",
            "4\n",
            "5\n"
          ]
        }
      ]
    },
    {
      "cell_type": "code",
      "source": [
        "##My own example 93: iteradores, deteniendo el iterador despues de 20 iteraciones\n",
        "class MisNumeros:\n",
        "  def __iter__(self):\n",
        "    self.a = 1\n",
        "    return self\n",
        "\n",
        "  def __next__(self):\n",
        "    if self.a <= 20:\n",
        "      x = self.a\n",
        "      self.a += 1\n",
        "      return x\n",
        "    else:\n",
        "      raise StopIteration\n",
        "\n",
        "miClase = MisNumeros()\n",
        "miiter = iter(miClase)\n",
        "\n",
        "for x in miiter:\n",
        "  print(x)\n"
      ],
      "metadata": {
        "colab": {
          "base_uri": "https://localhost:8080/"
        },
        "id": "sakYDhRPABlh",
        "outputId": "d05de29a-7221-476a-d59d-835530bb8916"
      },
      "execution_count": null,
      "outputs": [
        {
          "output_type": "stream",
          "name": "stdout",
          "text": [
            "1\n",
            "2\n",
            "3\n",
            "4\n",
            "5\n",
            "6\n",
            "7\n",
            "8\n",
            "9\n",
            "10\n",
            "11\n",
            "12\n",
            "13\n",
            "14\n",
            "15\n",
            "16\n",
            "17\n",
            "18\n",
            "19\n",
            "20\n"
          ]
        }
      ]
    },
    {
      "cell_type": "code",
      "source": [
        "##My own example 94: funcion dentro de una funcion\n",
        "\n",
        "def MyFuncion():\n",
        "  x=100\n",
        "  def Func2():\n",
        "    print(x)\n",
        "  Func2()\n",
        "MyFuncion()"
      ],
      "metadata": {
        "colab": {
          "base_uri": "https://localhost:8080/"
        },
        "id": "VKwz4o-vATW0",
        "outputId": "e8df4626-f6e0-4cf1-8083-fb38fdb9bbae"
      },
      "execution_count": null,
      "outputs": [
        {
          "output_type": "stream",
          "name": "stdout",
          "text": [
            "100\n"
          ]
        }
      ]
    },
    {
      "cell_type": "code",
      "source": [
        "##My own example 95: \n",
        "x = 100  ##uso de una variable global y uso dentro de una funcion\n",
        "\n",
        "def myfunc():\n",
        "  x = 50\n",
        "  print(x)  ##nos imprime el valor dentro de la funcion\n",
        "\n",
        "myfunc()\n",
        "\n",
        "print(x)  ##el valor global no cambia, x es igual a 100"
      ],
      "metadata": {
        "colab": {
          "base_uri": "https://localhost:8080/"
        },
        "id": "o70UCqwPBLT8",
        "outputId": "b377b670-17c0-4245-c9ef-c87957475a59"
      },
      "execution_count": null,
      "outputs": [
        {
          "output_type": "stream",
          "name": "stdout",
          "text": [
            "50\n",
            "100\n"
          ]
        }
      ]
    },
    {
      "cell_type": "code",
      "source": [
        "##My own example 96: matematicas maximos y minimos\n",
        "\n",
        "x = min(3, 9, 18)\n",
        "y = max(20, 15, 18)\n",
        "\n",
        "print(x)\n",
        "print(y)"
      ],
      "metadata": {
        "colab": {
          "base_uri": "https://localhost:8080/"
        },
        "id": "slQChVs7EkiM",
        "outputId": "c3b4ce06-5418-4be3-9aca-8b03e4afe2a9"
      },
      "execution_count": null,
      "outputs": [
        {
          "output_type": "stream",
          "name": "stdout",
          "text": [
            "3\n",
            "20\n"
          ]
        }
      ]
    },
    {
      "cell_type": "code",
      "source": [
        "##My own example 97: matematicas\n",
        "\n",
        "z = -89.32\n",
        "\n",
        "print(abs(z))  ##abs nos devuelve el valor positivo "
      ],
      "metadata": {
        "colab": {
          "base_uri": "https://localhost:8080/"
        },
        "id": "CxxmKsplFciD",
        "outputId": "ff193415-fabc-4935-dc62-f3030bcc204d"
      },
      "execution_count": null,
      "outputs": [
        {
          "output_type": "stream",
          "name": "stdout",
          "text": [
            "89.32\n"
          ]
        }
      ]
    },
    {
      "cell_type": "code",
      "source": [
        "##My own example 98: matematicas\n",
        "\n",
        "a = pow(5,5)\n",
        "\n",
        "print(a)   ##otra forma de elevar a una potencia un numero es con la funcion pow"
      ],
      "metadata": {
        "colab": {
          "base_uri": "https://localhost:8080/"
        },
        "id": "Z-HJvnfgFt9f",
        "outputId": "29a44163-3038-4390-8391-5dba197c2528"
      },
      "execution_count": null,
      "outputs": [
        {
          "output_type": "stream",
          "name": "stdout",
          "text": [
            "3125\n"
          ]
        }
      ]
    },
    {
      "cell_type": "code",
      "source": [
        "##My own example 99: matematicas\n",
        "\n",
        "import math  ##importamos el modulo de matematicas\n",
        "\n",
        "n = math.sqrt(81)\n",
        "\n",
        "print(n)   ##math.sqrt nos da la raiz de un numero en decimal\n"
      ],
      "metadata": {
        "colab": {
          "base_uri": "https://localhost:8080/"
        },
        "id": "VAJq8Ch7F6i5",
        "outputId": "155d82e3-b86d-4a9f-fa5c-9d3291586836"
      },
      "execution_count": null,
      "outputs": [
        {
          "output_type": "stream",
          "name": "stdout",
          "text": [
            "9.0\n"
          ]
        }
      ]
    },
    {
      "cell_type": "code",
      "source": [
        "##My own example 100: matematicas\n",
        "\n",
        "import math\n",
        "\n",
        "l = math.floor(52.6)  ##la funcion floor nos acerca al suelo o valor inferior de un numero decimal\n",
        "print(l)"
      ],
      "metadata": {
        "colab": {
          "base_uri": "https://localhost:8080/"
        },
        "id": "DsH1pNDwGIxz",
        "outputId": "67d7186b-2a77-4305-ae99-25f1a1ab6bce"
      },
      "execution_count": null,
      "outputs": [
        {
          "output_type": "stream",
          "name": "stdout",
          "text": [
            "52\n"
          ]
        }
      ]
    },
    {
      "cell_type": "code",
      "source": [
        "##My own example 101: matematicas\n",
        "\n",
        "import math\n",
        "\n",
        "l = math.ceil(52.6)  ##la funcion floor nos acerca al techo o valor superior de un numero decimal\n",
        "print(l)"
      ],
      "metadata": {
        "colab": {
          "base_uri": "https://localhost:8080/"
        },
        "id": "Fy_o4VuwGe_o",
        "outputId": "78300af1-c8d1-4137-b722-a5539e6d4ca7"
      },
      "execution_count": null,
      "outputs": [
        {
          "output_type": "stream",
          "name": "stdout",
          "text": [
            "53\n"
          ]
        }
      ]
    },
    {
      "cell_type": "code",
      "source": [
        "##My own example 102: matematicas\n",
        "\n",
        "p = math.pi\n",
        "\n",
        "print(p)  ##uso de la funcion pi, nos da como resultado pi\n"
      ],
      "metadata": {
        "colab": {
          "base_uri": "https://localhost:8080/"
        },
        "id": "rKJcmOofGkQ6",
        "outputId": "6a3d7205-e6eb-40d5-8aee-12c5973677ff"
      },
      "execution_count": null,
      "outputs": [
        {
          "output_type": "stream",
          "name": "stdout",
          "text": [
            "3.141592653589793\n"
          ]
        }
      ]
    },
    {
      "cell_type": "code",
      "source": [
        "##My own example 103: JSON\n",
        "\n",
        "import json ##importamos la libreria json\n",
        "\n",
        "MisDatos = '{\"nombre\" : \"Harold\", \"edad\" : \"23\", \"sexo\" : \"maculino\"}'  ##uso del '' por fuera de la lista por uso del JSON\n",
        "\n",
        "j = json.loads(MisDatos)\n",
        "print(j[\"nombre\"])  ##muy similar a los diccionarios"
      ],
      "metadata": {
        "colab": {
          "base_uri": "https://localhost:8080/"
        },
        "id": "w4Ur1tA8GxLe",
        "outputId": "d07875a5-8af7-4535-fb6e-0c398c73bd0f"
      },
      "execution_count": null,
      "outputs": [
        {
          "output_type": "stream",
          "name": "stdout",
          "text": [
            "Harold\n"
          ]
        }
      ]
    },
    {
      "cell_type": "code",
      "source": [
        "##My own example 104: JSON\n",
        "\n",
        "import json \n",
        "\n",
        "MisDatos = {                ##python\n",
        "    \"nombre\" : \"Harold\", \n",
        "    \"edad\" : \"23\", \n",
        "    \"sexo\" : \"maculino\"\n",
        "    }\n",
        "\n",
        "j = json.dumps(MisDatos)\n",
        "print(j)                    ##transoformamos el formato de python al de JSON"
      ],
      "metadata": {
        "colab": {
          "base_uri": "https://localhost:8080/"
        },
        "id": "t1nPvGoWHpDS",
        "outputId": "8545f46b-ef3f-442b-bea5-ead761ecd9b3"
      },
      "execution_count": null,
      "outputs": [
        {
          "output_type": "stream",
          "name": "stdout",
          "text": [
            "{\"nombre\": \"Harold\", \"edad\": \"23\", \"sexo\": \"maculino\"}\n"
          ]
        }
      ]
    },
    {
      "cell_type": "code",
      "source": [
        "##My own example 105: JSON                 convertir varios objetos de python a JSON\n",
        "\n",
        "import json\n",
        "\n",
        "print(json.dumps({\"nombre\": \"Harold\", \"edad\": 23}))\n",
        "print(json.dumps([\"lulo\", \"bananas\"]))\n",
        "print(json.dumps((\"manzana\", \"peras\")))\n",
        "print(json.dumps(\"hola\"))\n",
        "print(json.dumps(50))\n",
        "print(json.dumps(28.57))\n",
        "print(json.dumps(True))\n",
        "print(json.dumps(False))\n",
        "print(json.dumps(None))\n"
      ],
      "metadata": {
        "colab": {
          "base_uri": "https://localhost:8080/"
        },
        "id": "MMfDXDZHIDHk",
        "outputId": "1c11e906-69fb-46fe-8a30-179251675d13"
      },
      "execution_count": null,
      "outputs": [
        {
          "output_type": "stream",
          "name": "stdout",
          "text": [
            "{\"nombre\": \"Harold\", \"edad\": 23}\n",
            "[\"lulo\", \"bananas\"]\n",
            "[\"manzana\", \"peras\"]\n",
            "\"hola\"\n",
            "50\n",
            "28.57\n",
            "true\n",
            "false\n",
            "null\n"
          ]
        }
      ]
    },
    {
      "cell_type": "code",
      "source": [
        "##My own example 106: RegEx - modulo para busquedas\n",
        "\n",
        "import re\n",
        "\n",
        "txt = \"la reina de inglaterra\"\n",
        "x = re.search(\"^la.*inglaterra$\",txt)\n",
        "\n",
        "if x:\n",
        "  print(\"Existe\")\n",
        "else:\n",
        "  print(\"No existe\")\n"
      ],
      "metadata": {
        "colab": {
          "base_uri": "https://localhost:8080/"
        },
        "id": "RntjnAB2ILbs",
        "outputId": "1a354213-e2a5-4746-ecc8-94c4ffcfa6b9"
      },
      "execution_count": null,
      "outputs": [
        {
          "output_type": "stream",
          "name": "stdout",
          "text": [
            "Existe\n"
          ]
        }
      ]
    },
    {
      "cell_type": "code",
      "source": [
        "##My own example 107: RegEx - modulo para busquedas\n",
        "\n",
        "import re\n",
        "\n",
        "\n",
        "txt = \"la reina de inglaterra\"\n",
        "x = re.findall(\"la\", txt)   ##funcion findall basada en texto\n",
        "print(x)"
      ],
      "metadata": {
        "colab": {
          "base_uri": "https://localhost:8080/"
        },
        "id": "T5ockd7SJf6d",
        "outputId": "56975dc0-f202-41a4-8697-38356cd9a4e8"
      },
      "execution_count": null,
      "outputs": [
        {
          "output_type": "stream",
          "name": "stdout",
          "text": [
            "['la', 'la']\n"
          ]
        }
      ]
    },
    {
      "cell_type": "code",
      "source": [
        "##My own example 108: RegEx - modulo para busquedas\n",
        "\n",
        "import re\n",
        "\n",
        "txt = \"la reina de inglaterra\"\n",
        "x = re.search(\"\\s\", txt)\n",
        "\n",
        "print(\"El primer carácter de espacio en blanco se encuentra en la posición:\", x.start()) "
      ],
      "metadata": {
        "colab": {
          "base_uri": "https://localhost:8080/"
        },
        "id": "mKvFY-dOJz2n",
        "outputId": "6eefeb0a-d751-47cf-d1e4-e501634b15ce"
      },
      "execution_count": null,
      "outputs": [
        {
          "output_type": "stream",
          "name": "stdout",
          "text": [
            "El primer carácter de espacio en blanco se encuentra en la posición: 2\n"
          ]
        }
      ]
    },
    {
      "cell_type": "code",
      "source": [
        "##My own example 109: RegEx - modulo para busquedas\n",
        "\n",
        "import re\n",
        "\n",
        "txt = \"la reina de inglaterra\"\n",
        "x = re.split(\"\\s\", txt)    ##split nos separa cada palabra de la cadena\n",
        "\n",
        "print(x) "
      ],
      "metadata": {
        "colab": {
          "base_uri": "https://localhost:8080/"
        },
        "id": "NhYjosZ9KlYK",
        "outputId": "816c52a5-2f58-4c55-fbfc-2aa628439078"
      },
      "execution_count": null,
      "outputs": [
        {
          "output_type": "stream",
          "name": "stdout",
          "text": [
            "['la', 'reina', 'de', 'inglaterra']\n"
          ]
        }
      ]
    },
    {
      "cell_type": "code",
      "source": [
        "##My own example 109: RegEx - modulo para busquedas\n",
        "\n",
        "import re\n",
        "\n",
        "txt = \"la reina de inglaterra\"\n",
        "x = re.split(\"\\s\", txt,1)    ##split nos separa cada palabra de la cadena, en este caso al poner 1 como ultimo valor nos separara la primera palabra\n",
        "\n",
        "print(x) "
      ],
      "metadata": {
        "colab": {
          "base_uri": "https://localhost:8080/"
        },
        "id": "RxtlgOQUK2re",
        "outputId": "44b9208f-5793-48b4-80e9-6f2eb57d7cfa"
      },
      "execution_count": null,
      "outputs": [
        {
          "output_type": "stream",
          "name": "stdout",
          "text": [
            "['la', 'reina de inglaterra']\n"
          ]
        }
      ]
    },
    {
      "cell_type": "code",
      "source": [
        "##My own example 110: RegEx - modulo para busquedas\n",
        "\n",
        "import re\n",
        "\n",
        "txt = \"la reina de inglaterra\"\n",
        "x = re.sub(\"\\s\", \".\", txt)   ##con la funcion sub cambiamos los espacios en blancos por otro caracter\n",
        "\n",
        "print(x) "
      ],
      "metadata": {
        "colab": {
          "base_uri": "https://localhost:8080/"
        },
        "id": "dQntyMbXLDg9",
        "outputId": "2a6cdd66-5185-42a9-9706-0057c46a4093"
      },
      "execution_count": null,
      "outputs": [
        {
          "output_type": "stream",
          "name": "stdout",
          "text": [
            "la.reina.de.inglaterra\n"
          ]
        }
      ]
    },
    {
      "cell_type": "code",
      "source": [
        "##My own example 111: RegEx - modulo para busquedas\n",
        "\n",
        "import re\n",
        "\n",
        "txt = \"la reina de inglaterra\"\n",
        "x = re.search(\"ei\", txt)        ##con esta configuracion del search nos busca en que posicion de la cadena se encuentran los caracteres deseados, en este caso del 4-6\n",
        "\n",
        "print(x) "
      ],
      "metadata": {
        "colab": {
          "base_uri": "https://localhost:8080/"
        },
        "id": "n7fHS4-HLSVd",
        "outputId": "9ae5fbce-2385-4e4c-f1da-4ef58e684ebe"
      },
      "execution_count": null,
      "outputs": [
        {
          "output_type": "stream",
          "name": "stdout",
          "text": [
            "<re.Match object; span=(4, 6), match='ei'>\n"
          ]
        }
      ]
    },
    {
      "cell_type": "code",
      "source": [
        "##My own example 112: RegEx - modulo para busquedas\n",
        "\n",
        "import re\n",
        "\n",
        "txt = \"la reina de inglaterra\"\n",
        "x = re.search(\"ei\", txt)\n",
        "x = re.search(r\"\\bi\\w+\", txt)   ##con esta configuracion del search busca la primera palabra que contenga el caracter y donde termina la palabra\n",
        "print(x.span())"
      ],
      "metadata": {
        "colab": {
          "base_uri": "https://localhost:8080/"
        },
        "id": "RwzpF-UwL60U",
        "outputId": "1dc4de17-d865-41a9-8f3b-2eccf244af60"
      },
      "execution_count": null,
      "outputs": [
        {
          "output_type": "stream",
          "name": "stdout",
          "text": [
            "(12, 22)\n"
          ]
        }
      ]
    },
    {
      "cell_type": "code",
      "source": [
        "##My own example 113: RegEx - modulo para busquedas\n",
        "\n",
        "import re\n",
        "\n",
        "txt = \"la reina de inglaterra\"\n",
        "\n",
        "x = re.search(r\"\\bi\\w+\", txt)   ##con esta configuracion buscamos la palabra que empieza por i y la imprime completa\n",
        "print(x.group())"
      ],
      "metadata": {
        "colab": {
          "base_uri": "https://localhost:8080/"
        },
        "id": "81zVMKTUMhUu",
        "outputId": "0ee6608a-01f8-421e-95d6-4ee26c80e8fb"
      },
      "execution_count": null,
      "outputs": [
        {
          "output_type": "stream",
          "name": "stdout",
          "text": [
            "inglaterra\n"
          ]
        }
      ]
    },
    {
      "cell_type": "code",
      "source": [
        "##My own example 114: RegEx - modulo para busquedas\n",
        "\n",
        "import re\n",
        "\n",
        "txt = \"la reina de inglaterra\"\n",
        "\n",
        "x = re.findall(\"\\W\", txt)   ##con el modulo \\W buscara si hay caracteres distintos de la a-z como espacios en blanco o simbolos\n",
        "\n",
        "print(x)\n",
        "\n",
        "if x:\n",
        "  print(\"almenos una coincidencia\")\n",
        "else:\n",
        "  print(\"sin coincidencias\")"
      ],
      "metadata": {
        "colab": {
          "base_uri": "https://localhost:8080/"
        },
        "id": "uW_Ac0JCNGuj",
        "outputId": "32f5c5ac-ce17-48c8-a229-f9436bc5003e"
      },
      "execution_count": null,
      "outputs": [
        {
          "output_type": "stream",
          "name": "stdout",
          "text": [
            "[' ', ' ', ' ']\n",
            "almenos una coincidencia\n"
          ]
        }
      ]
    },
    {
      "cell_type": "code",
      "source": [
        "##My own example 115: RegEx - modulo para busquedas\n",
        "\n",
        "import re\n",
        "\n",
        "txt = \"la reina de inglaterra\"\n",
        "\n",
        "x = re.findall(\"[^aer]\", txt)  ##esta configuracion hace la busqueda de caracteres en la cadena exceptuando aer\n",
        "\n",
        "print (x)\n",
        "if x:\n",
        "  print(\"almenos una coincidencia\")\n",
        "else:\n",
        "  print(\"sin coincidencias\")"
      ],
      "metadata": {
        "colab": {
          "base_uri": "https://localhost:8080/"
        },
        "id": "bU0dmlH0Nv82",
        "outputId": "76eca92e-f6ce-4d8c-b844-fe3faf5a7725"
      },
      "execution_count": null,
      "outputs": [
        {
          "output_type": "stream",
          "name": "stdout",
          "text": [
            "['l', ' ', 'i', 'n', ' ', 'd', ' ', 'i', 'n', 'g', 'l', 't']\n",
            "almenos una coincidencia\n"
          ]
        }
      ]
    },
    {
      "cell_type": "code",
      "source": [
        "##My own example 116: RegEx - modulo para busquedas\n",
        "\n",
        "import re\n",
        "\n",
        "txt = \"la reina de inglaterra\"\n",
        "\n",
        "x = re.findall(\"\\D\", txt)   ##con el modulo \\D buscaremos caracteres que no sean digitos\n",
        "\n",
        "print(x)\n",
        "\n",
        "if x:\n",
        "  print(\"almenos una coincidencia\")\n",
        "else:\n",
        "  print(\"sin coincidencias\")"
      ],
      "metadata": {
        "colab": {
          "base_uri": "https://localhost:8080/"
        },
        "id": "hGO1wihqOLWe",
        "outputId": "a996744f-af4a-439d-85fc-b3f15383e202"
      },
      "execution_count": null,
      "outputs": [
        {
          "output_type": "stream",
          "name": "stdout",
          "text": [
            "['l', 'a', ' ', 'r', 'e', 'i', 'n', 'a', ' ', 'd', 'e', ' ', 'i', 'n', 'g', 'l', 'a', 't', 'e', 'r', 'r', 'a']\n",
            "almenos una coincidencia\n"
          ]
        }
      ]
    },
    {
      "cell_type": "code",
      "source": [
        "##My own example 117: try except\n",
        "\n",
        "d = 90\n",
        "\n",
        "try:         ##uso del try except\n",
        "  print(d)\n",
        "except: \n",
        "  print(\"un error ha ocurrido\")"
      ],
      "metadata": {
        "colab": {
          "base_uri": "https://localhost:8080/"
        },
        "id": "d9hV_QgyOnRz",
        "outputId": "ea7aee41-a5a9-4ecc-e30e-e1f9fa8b484f"
      },
      "execution_count": null,
      "outputs": [
        {
          "output_type": "stream",
          "name": "stdout",
          "text": [
            "90\n"
          ]
        }
      ]
    },
    {
      "cell_type": "code",
      "source": [
        "##My own example 118: try except\n",
        "\n",
        "\n",
        "try:         ##uso del try except, ya que no existe la variable qas el programa va a fallar y saldra el mensaje de error\n",
        "  print(qas)\n",
        "except: \n",
        "  print(\"un error ha ocurrido\")"
      ],
      "metadata": {
        "colab": {
          "base_uri": "https://localhost:8080/"
        },
        "id": "smLcBm2WPTbZ",
        "outputId": "5fff1b3f-3ee1-4d7c-cdd7-92e0ef3e0065"
      },
      "execution_count": null,
      "outputs": [
        {
          "output_type": "stream",
          "name": "stdout",
          "text": [
            "un error ha ocurrido\n"
          ]
        }
      ]
    },
    {
      "cell_type": "code",
      "source": [
        "##My own example 119: try except y else\n",
        "\n",
        "try:\n",
        "  print(\"hola\")\n",
        "except:\n",
        "  print(\"algo fue mal\")\n",
        "else:\n",
        "  print(\"nada fue mal\")"
      ],
      "metadata": {
        "colab": {
          "base_uri": "https://localhost:8080/"
        },
        "id": "191babnLPee4",
        "outputId": "dde5bfd6-5aa6-4fb5-cfb0-9aa1ca89370a"
      },
      "execution_count": null,
      "outputs": [
        {
          "output_type": "stream",
          "name": "stdout",
          "text": [
            "hola\n",
            "nada fue mal\n"
          ]
        }
      ]
    },
    {
      "cell_type": "code",
      "source": [
        "##My own example 120: try except y finally\n",
        "\n",
        "try:\n",
        "  print(qw)\n",
        "except:\n",
        "  print(\"algo fue mal\")\n",
        "finally:\n",
        "  print(\"el 'try except' ha finalizado\")\n"
      ],
      "metadata": {
        "colab": {
          "base_uri": "https://localhost:8080/"
        },
        "id": "AEKjC_c-PuG3",
        "outputId": "7f4ba69c-bdbb-4398-a817-0037a9880223"
      },
      "execution_count": null,
      "outputs": [
        {
          "output_type": "stream",
          "name": "stdout",
          "text": [
            "algo fue mal\n",
            "el 'try except' ha finalizado\n"
          ]
        }
      ]
    },
    {
      "cell_type": "code",
      "source": [
        "##My own example 121: try raise\n",
        "sd = -1\n",
        "\n",
        "if sd < 0:\n",
        "  raise Exception(\"Sorry, no numbers below zero\")  ##el error es a proposito con tal de mostrar el raise excepcion\n",
        "\n"
      ],
      "metadata": {
        "colab": {
          "base_uri": "https://localhost:8080/",
          "height": 217
        },
        "id": "rESrj1LAP5tp",
        "outputId": "dfa326e1-f730-4cbb-b51d-6a45e860097c"
      },
      "execution_count": null,
      "outputs": [
        {
          "output_type": "error",
          "ename": "Exception",
          "evalue": "ignored",
          "traceback": [
            "\u001b[0;31m---------------------------------------------------------------------------\u001b[0m",
            "\u001b[0;31mException\u001b[0m                                 Traceback (most recent call last)",
            "\u001b[0;32m<ipython-input-339-0b348a8db392>\u001b[0m in \u001b[0;36m<module>\u001b[0;34m()\u001b[0m\n\u001b[1;32m      3\u001b[0m \u001b[0;34m\u001b[0m\u001b[0m\n\u001b[1;32m      4\u001b[0m \u001b[0;32mif\u001b[0m \u001b[0msd\u001b[0m \u001b[0;34m<\u001b[0m \u001b[0;36m0\u001b[0m\u001b[0;34m:\u001b[0m\u001b[0;34m\u001b[0m\u001b[0;34m\u001b[0m\u001b[0m\n\u001b[0;32m----> 5\u001b[0;31m   \u001b[0;32mraise\u001b[0m \u001b[0mException\u001b[0m\u001b[0;34m(\u001b[0m\u001b[0;34m\"Sorry, no numbers below zero\"\u001b[0m\u001b[0;34m)\u001b[0m  \u001b[0;31m##el error es a proposito con tal de mostrar el raise excepcion\u001b[0m\u001b[0;34m\u001b[0m\u001b[0;34m\u001b[0m\u001b[0m\n\u001b[0m\u001b[1;32m      6\u001b[0m \u001b[0;34m\u001b[0m\u001b[0m\n",
            "\u001b[0;31mException\u001b[0m: Sorry, no numbers below zero"
          ]
        }
      ]
    },
    {
      "cell_type": "code",
      "source": [
        "##My own example 122: RegEx\n",
        "import re\n",
        "\n",
        "url = re.compile(r\"^(https?://)?([da-z.-]+).([a-z.]{2,6})([/w .-]*)*/?$\")\n",
        "\n",
        "if url.search(\"https://pythondiario.com/\"): # Comprobemos que esta es una URL valida\n",
        "    print(\"URL Valida\")\n",
        "else:\n",
        "    print(\"URL No Valida\")"
      ],
      "metadata": {
        "colab": {
          "base_uri": "https://localhost:8080/"
        },
        "id": "QFVCCJ0yQdZn",
        "outputId": "6fa49cc1-3776-4e1e-be79-73788a46f628"
      },
      "execution_count": null,
      "outputs": [
        {
          "output_type": "stream",
          "name": "stdout",
          "text": [
            "URL Valida\n"
          ]
        }
      ]
    },
    {
      "cell_type": "code",
      "source": [
        "##My own example 123: RegEx\n",
        "import re\n",
        "\n",
        "patron = ('w*[ñáéíóúÑÁÉÍÓÚ]w*')\n",
        "palabras = re.compile(patron)\n",
        "palabras.findall(\"Niño, Acción, Perro, Lobo, Expresión, Español\")  ##regex que nos muestra letras con acento en una palabra"
      ],
      "metadata": {
        "colab": {
          "base_uri": "https://localhost:8080/"
        },
        "id": "gPajLIcCWtIa",
        "outputId": "1064d242-31e1-47b9-d386-1dbb8b5abbcb"
      },
      "execution_count": null,
      "outputs": [
        {
          "output_type": "execute_result",
          "data": {
            "text/plain": [
              "['ñ', 'ó', 'ó', 'ñ']"
            ]
          },
          "metadata": {},
          "execution_count": 341
        }
      ]
    },
    {
      "cell_type": "code",
      "source": [
        "##My own example 124: RegEx\n",
        "import re\n",
        "\n",
        "patron1 = re.compile('\\b[\\w.%+-]+@[\\w.-]+\\.[a-zA-Z]{2,6}\\b')\n",
        "\n",
        "if patron1.search(\"pythondi1io@gmail.com\"): # Comprobemos sí este es un correo electronico valido\n",
        "    print(\"Correo valido!\")\n",
        "else:\n",
        "    print(\"Correo Invalido!\")"
      ],
      "metadata": {
        "colab": {
          "base_uri": "https://localhost:8080/"
        },
        "id": "-pRRMLnfW72L",
        "outputId": "f57dc719-9ca2-41af-8f98-07fc71c10c18"
      },
      "execution_count": null,
      "outputs": [
        {
          "output_type": "stream",
          "name": "stdout",
          "text": [
            "Correo Invalido!\n"
          ]
        }
      ]
    },
    {
      "cell_type": "code",
      "source": [
        "##My own example 125: RegEx\n",
        "import re\n",
        "\n",
        "fecha = re.compile(r'^(0?[1-9]|[12][0-9]|3[01])/(0?[1-9]|1[012])/((19|20)dd)$')\n",
        "if re.fullmatch(fecha, \"13/02/1982\"):\n",
        "  print(\"Fecha Valida!\")\n",
        "else:\n",
        "    print(\"Fecha Invalida!\")    \n"
      ],
      "metadata": {
        "colab": {
          "base_uri": "https://localhost:8080/"
        },
        "id": "SIAs15MCYMy7",
        "outputId": "012a1f93-be37-4bde-b92a-80e3cdde648d"
      },
      "execution_count": null,
      "outputs": [
        {
          "output_type": "stream",
          "name": "stdout",
          "text": [
            "Fecha Invalida!\n"
          ]
        }
      ]
    },
    {
      "cell_type": "code",
      "source": [
        "##My own example 126: RegEx\n",
        "import re\n",
        "\n",
        "patron = ('^(?:(?:25[0-5]|2[0-4][0-9]|'\n",
        "          '[01]?[0-9][0-9]?)\\.){3}'\n",
        "          '(?:25[0-5]|2[0-4][0-9]|[01]?[0-9][0-9]?)$')\n",
        "\n",
        "ip = re.compile(patron)\n",
        "\n",
        "# la ip 73.60.124.136 es valida\n",
        "ip.search(\"73.60.124.136\")\n",
        "\n",
        "print(ip.search(\"256.60.124.136\"))  ##deberia dar none o no valida"
      ],
      "metadata": {
        "colab": {
          "base_uri": "https://localhost:8080/"
        },
        "id": "IuNug0YaZjqk",
        "outputId": "ab63ac9d-3406-44d5-d0a5-120c15b9d555"
      },
      "execution_count": null,
      "outputs": [
        {
          "output_type": "stream",
          "name": "stdout",
          "text": [
            "None\n"
          ]
        }
      ]
    },
    {
      "cell_type": "code",
      "source": [
        "##My own example 127: RegEx\n",
        "import re\n",
        "\n",
        "fecha = re.compile(r'^(0?[1-9]|[12][0-9]|3[01])/(0?[1-9]|1[012])/((19|20)\\d\\d)$')\n",
        "\n",
        "# validando 13/02/1982\n",
        "fecha.search(\"13/02/1982\")\n",
        "print(fecha.search(\"13/02/1982\"))\n",
        "\n",
        "# no valida 13-02-1982\n",
        "print(fecha.search(\"13-02-1982\"))\n",
        "\n",
        "# no valida 32/12/2015\n",
        "print(fecha.search(\"32/12/2015\"))\n",
        "\n",
        "# no valida 30/14/2015\n",
        "print(fecha.search(\"30/14/2015\"))"
      ],
      "metadata": {
        "colab": {
          "base_uri": "https://localhost:8080/"
        },
        "id": "HNoryvc1Zxyb",
        "outputId": "072e2db1-dc92-4812-88bc-b4040aa4da47"
      },
      "execution_count": null,
      "outputs": [
        {
          "output_type": "stream",
          "name": "stdout",
          "text": [
            "<re.Match object; span=(0, 10), match='13/02/1982'>\n",
            "None\n",
            "None\n",
            "None\n"
          ]
        }
      ]
    },
    {
      "cell_type": "code",
      "source": [
        "##My own example 128: quicksort array\n",
        "import json\n",
        "\n",
        "def partition(array, low, high):\n",
        "\n",
        "  pivot = array[high]\n",
        "  i = low - 1\n",
        "\n",
        "  for j in range(low, high):\n",
        "    if array[j] <= pivot:\n",
        "      i = i + 1\n",
        "      (array[i], array[j]) = (array[j], array[i])\n",
        "\n",
        "  (array[i + 1], array[high]) = (array[high], array[i + 1])\n",
        "  return i + 1\n",
        "\n",
        "def quickSort(array, low, high):\n",
        "  if low < high:\n",
        "    pi = partition(array, low, high)\n",
        "    quickSort(array, low, pi - 1)\n",
        "    quickSort(array, pi + 1, high)\n",
        "\n",
        "data = [8, 7, 2, 1, 0, 9, 6]\n",
        "print(\"Unsorted Array\")\n",
        "print(data)\n",
        "\n",
        "size = len(data)\n",
        "quickSort(data, 0, size - 1)\n",
        "\n",
        "print('Sorted Array in Ascending Order:')\n",
        "print(data)\n"
      ],
      "metadata": {
        "colab": {
          "base_uri": "https://localhost:8080/"
        },
        "id": "raiafFAmaFcS",
        "outputId": "c422de99-edf4-4bdd-8429-e7664d724b85"
      },
      "execution_count": null,
      "outputs": [
        {
          "output_type": "stream",
          "name": "stdout",
          "text": [
            "Unsorted Array\n",
            "[8, 7, 2, 1, 0, 9, 6]\n",
            "Sorted Array in Ascending Order:\n",
            "[0, 1, 2, 6, 7, 8, 9]\n"
          ]
        }
      ]
    },
    {
      "cell_type": "code",
      "source": [
        "##My own example 129: otro sort\n",
        "\n",
        "def bubble_sort(array):\n",
        "    n = len(array)\n",
        "\n",
        "    for i in range(n):\n",
        "        already_sorted = True\n",
        "\n",
        "        for j in range(n - i - 1):\n",
        "            if array[j] > array[j + 1]:\n",
        "                array[j], array[j + 1] = array[j + 1], array[j]\n",
        "\n",
        "                already_sorted = False\n",
        "\n",
        "        if already_sorted:\n",
        "            break\n",
        "\n",
        "    return array\n",
        "\n",
        "ppp = bubble_sort([1,12,5,6,54,23,2])\n",
        "print(ppp)\n"
      ],
      "metadata": {
        "colab": {
          "base_uri": "https://localhost:8080/"
        },
        "id": "XSOrSVJtcFDY",
        "outputId": "a8232c0f-54e1-432d-ba63-dc9b5a80134c"
      },
      "execution_count": null,
      "outputs": [
        {
          "output_type": "stream",
          "name": "stdout",
          "text": [
            "[1, 2, 5, 6, 12, 23, 54]\n"
          ]
        }
      ]
    },
    {
      "cell_type": "code",
      "source": [
        "##My own example 130: insertion sort\n",
        "def insertion_sort(array):\n",
        "    for i in range(1, len(array)):\n",
        "        key_item = array[i]\n",
        "        j = i - 1\n",
        "        while j >= 0 and array[j] > key_item:\n",
        "            array[j + 1] = array[j]\n",
        "            j -= 1\n",
        "        array[j + 1] = key_item\n",
        "    return array\n",
        "\n",
        "ppp2 = insertion_sort([1,2,3,4,5])\n",
        "print(ppp2)"
      ],
      "metadata": {
        "colab": {
          "base_uri": "https://localhost:8080/"
        },
        "id": "KlU9B8uudU5t",
        "outputId": "f86e5c37-5084-43a1-b490-36458b6c0fd7"
      },
      "execution_count": null,
      "outputs": [
        {
          "output_type": "stream",
          "name": "stdout",
          "text": [
            "[1, 2, 3, 4, 5]\n"
          ]
        }
      ]
    },
    {
      "cell_type": "code",
      "source": [
        "##My own example 131: merge sort\n",
        "def merge(left, right):\n",
        "    if len(left) == 0:\n",
        "        return right\n",
        "    if len(right) == 0:\n",
        "        return left\n",
        "\n",
        "    result = []\n",
        "    index_left = index_right = 0\n",
        "    while len(result) < len(left) + len(right):\n",
        "        if left[index_left] <= right[index_right]:\n",
        "            result.append(left[index_left])\n",
        "            index_left += 1\n",
        "        else:\n",
        "            result.append(right[index_right])\n",
        "            index_right += 1\n",
        "        if index_right == len(right):\n",
        "            result += left[index_left:]\n",
        "            break\n",
        "        if index_left == len(left):\n",
        "            result += right[index_right:]\n",
        "            break\n",
        "    return result\n",
        "\n",
        "def merge_sort(array):\n",
        "    if len(array) < 2:\n",
        "        return array\n",
        "\n",
        "    midpoint = len(array) // 2\n",
        "    return merge(\n",
        "        left=merge_sort(array[:midpoint]),\n",
        "        right=merge_sort(array[midpoint:]))\n",
        "\n",
        "ppp3 = merge_sort([1,12,5,6,54,23,2])\n",
        "print(ppp3)"
      ],
      "metadata": {
        "colab": {
          "base_uri": "https://localhost:8080/"
        },
        "id": "FgE1wPegdrhM",
        "outputId": "6a7fb2ac-9363-4f4e-f9e0-0e1048f091b8"
      },
      "execution_count": null,
      "outputs": [
        {
          "output_type": "stream",
          "name": "stdout",
          "text": [
            "[1, 2, 5, 6, 12, 23, 54]\n"
          ]
        }
      ]
    },
    {
      "cell_type": "code",
      "source": [
        "##My own example 132: manejo de excepciones\n",
        "\n",
        "while True:\n",
        "       try:\n",
        "         x = int(input(\"Por favor ingrese un numero: \"))\n",
        "         break\n",
        "       except ValueError:\n",
        "        print(\"Oops!  ese no era un numero, intentlo de nuevo\")"
      ],
      "metadata": {
        "colab": {
          "base_uri": "https://localhost:8080/"
        },
        "id": "0U1dy3zGeS4B",
        "outputId": "aaf4ede9-69e7-4b4c-b204-5b46b75dccd2"
      },
      "execution_count": null,
      "outputs": [
        {
          "name": "stdout",
          "output_type": "stream",
          "text": [
            "Por favor ingrese un numero: 23\n"
          ]
        }
      ]
    },
    {
      "cell_type": "code",
      "source": [
        "##My own example 133: manejo de excepciones\n",
        "import sys \n",
        "\n",
        "for arg in sys.argv[1:]:\n",
        "    try:\n",
        "        f = open(arg, 'r')\n",
        "    except OSError:\n",
        "        print('no se puede abrir', arg)\n",
        "    else:\n",
        "        print(arg, 'tiene', len(f.readlines()), 'lineas')\n",
        "        f.close()\n",
        "\n"
      ],
      "metadata": {
        "colab": {
          "base_uri": "https://localhost:8080/"
        },
        "id": "xG0E3WOjfRY1",
        "outputId": "68883d06-da93-43e6-b30d-dad7d4e88531"
      },
      "execution_count": null,
      "outputs": [
        {
          "output_type": "stream",
          "name": "stdout",
          "text": [
            "no se puede abrir -f\n",
            "/root/.local/share/jupyter/runtime/kernel-816b7218-f9db-4469-8f05-696efe4d63ff.json tiene 12 lineas\n"
          ]
        }
      ]
    },
    {
      "cell_type": "code",
      "source": [
        "##My own example 134: manejo de herencia\n",
        "\n",
        "\n",
        "class Animal:\n",
        "    def __init__(self, especie, edad):\n",
        "        self.especie = especie\n",
        "        self.edad = edad\n",
        "\n",
        "    # Método genérico pero con implementación particular\n",
        "    def hablar(self):\n",
        "        # Método vacío\n",
        "        pass\n",
        "\n",
        "    # Método genérico pero con implementación particular\n",
        "    def moverse(self):\n",
        "        # Método vacío\n",
        "        pass\n",
        "\n",
        "    # Método genérico con la misma implementación\n",
        "    def describeme(self):\n",
        "        print(\"Soy un Animal del tipo\", type(self).__name__)\n",
        "\n",
        "class Perro(Animal):\n",
        "    def hablar(self):\n",
        "        print(\"Guau!\")\n",
        "    def moverse(self):\n",
        "        print(\"Caminando con 4 patas\")\n",
        "\n",
        "class Vaca(Animal):\n",
        "    def hablar(self):\n",
        "        print(\"Muuu!\")\n",
        "    def moverse(self):\n",
        "        print(\"Caminando con 4 patas\")\n",
        "\n",
        "class Abeja(Animal):\n",
        "    def hablar(self):\n",
        "        print(\"Bzzzz!\")\n",
        "    def moverse(self):\n",
        "        print(\"Volando\")\n",
        "\n",
        "    # Nuevo método\n",
        "    def picar(self):\n",
        "        print(\"Picar!\")\n"
      ],
      "metadata": {
        "id": "9beekPjOfw-P"
      },
      "execution_count": null,
      "outputs": []
    },
    {
      "cell_type": "code",
      "source": [
        "##My own example 135: manejo de hash\n",
        "\n",
        "import hashlib\n",
        "\n",
        "m = hashlib.sha256(b\"mensaje\")\n",
        "print(m.digest())"
      ],
      "metadata": {
        "colab": {
          "base_uri": "https://localhost:8080/"
        },
        "id": "jhx4l0WhhAc6",
        "outputId": "a3295021-fb8c-44a2-d16f-ba6f224eb407"
      },
      "execution_count": null,
      "outputs": [
        {
          "output_type": "stream",
          "name": "stdout",
          "text": [
            "b\"]\\xb3\\xa6(\\x06\\x10!\\x8a\\x1c\\x0b\\xbf\\xd9\\x9f\\x19\\x82\\x1e{\\r$m'\\x11\\xc9\\xf0\\xc7\\x9c\\x1f\\x17\\xfdF\\xa09\"\n"
          ]
        }
      ]
    },
    {
      "cell_type": "code",
      "source": [
        "##My own example 136: manejo de hash\n",
        "\n",
        "import hashlib\n",
        "\n",
        "m = hashlib.sha256(b\"Mensaje\")  ##al cambiar por ejemplo la \"M\" a mayuscula el hash cambia con respecto al ejercicio anterior en minuscula\n",
        "print(m.digest())"
      ],
      "metadata": {
        "colab": {
          "base_uri": "https://localhost:8080/"
        },
        "id": "aKDY4NQ2ha1A",
        "outputId": "f91b24bd-0c9b-49f6-b65b-3a6363a17281"
      },
      "execution_count": null,
      "outputs": [
        {
          "output_type": "stream",
          "name": "stdout",
          "text": [
            "b'\\xd2\\xaf1q.\\xad\\x04\\x14h\\xc1\\xc6\\xfaLvV\\\\\\\\\\xe0\\xf9\\xb1\\x93\\x10\\x079\\xffQ\\xb9\\x07\\xe4\\xe3\\x818'\n"
          ]
        }
      ]
    },
    {
      "cell_type": "code",
      "source": [
        "##My own example 137: manejo de hash\n",
        "import hashlib\n",
        "m = hashlib.new(\"sha256\", b\"mensaje\")  ##con new debemos ingresar dos parametros el primero debe ser una cadena de la funcion hash y la segunda la cadena que quedemos cifrar\n",
        "print(m.digest())"
      ],
      "metadata": {
        "colab": {
          "base_uri": "https://localhost:8080/"
        },
        "id": "Xvxm5_70hxLy",
        "outputId": "8f1fb1d8-6aa6-494e-fb44-cd3793a53884"
      },
      "execution_count": null,
      "outputs": [
        {
          "output_type": "stream",
          "name": "stdout",
          "text": [
            "b\"]\\xb3\\xa6(\\x06\\x10!\\x8a\\x1c\\x0b\\xbf\\xd9\\x9f\\x19\\x82\\x1e{\\r$m'\\x11\\xc9\\xf0\\xc7\\x9c\\x1f\\x17\\xfdF\\xa09\"\n"
          ]
        }
      ]
    },
    {
      "cell_type": "code",
      "source": [
        "##My own example 138: manejo de hash\n",
        "import hashlib\n",
        "print(m.hexdigest())  ##con el comando hexdigest nos devuelve la cadena cifrada en hexadecimal\n"
      ],
      "metadata": {
        "colab": {
          "base_uri": "https://localhost:8080/"
        },
        "id": "IphXJ2l2ibpZ",
        "outputId": "384384ce-6aab-467b-898d-d6247d6ff7be"
      },
      "execution_count": null,
      "outputs": [
        {
          "output_type": "stream",
          "name": "stdout",
          "text": [
            "5db3a6280610218a1c0bbfd99f19821e7b0d246d2711c9f0c79c1f17fd46a039\n"
          ]
        }
      ]
    },
    {
      "cell_type": "code",
      "source": [
        "##My own example 139:\n",
        "\n",
        "import numpy as np\n",
        "\n",
        "arr = np.array([[1,2],[3,4]])\n",
        "print(np.linalg.det(arr)) # determinante de una matriz"
      ],
      "metadata": {
        "colab": {
          "base_uri": "https://localhost:8080/"
        },
        "id": "IXI_9dGsizI-",
        "outputId": "aaf0a0b1-ddfc-4f4b-ac6a-270411b6f6cb"
      },
      "execution_count": null,
      "outputs": [
        {
          "output_type": "stream",
          "name": "stdout",
          "text": [
            "-2.0000000000000004\n"
          ]
        }
      ]
    },
    {
      "cell_type": "code",
      "source": [
        "##My own example 140:\n",
        "\n",
        "import numpy as np\n",
        "\n",
        "a = np.array([[1,2],[2,1],[5,5]])\n",
        "b = np.array([[1,2,4],[0,0,1]])\n",
        "\n",
        "#Multiplicación de matrices\n",
        "print(np.matmul(a,b))\n",
        "print(np.matmul(b,a))"
      ],
      "metadata": {
        "colab": {
          "base_uri": "https://localhost:8080/"
        },
        "id": "Q0Z7HF9Ti7W9",
        "outputId": "a7399c39-6b1b-40e2-af1f-0b8f94ba4d33"
      },
      "execution_count": null,
      "outputs": [
        {
          "output_type": "stream",
          "name": "stdout",
          "text": [
            "[[ 1  2  6]\n",
            " [ 2  4  9]\n",
            " [ 5 10 25]]\n",
            "[[25 24]\n",
            " [ 5  5]]\n"
          ]
        }
      ]
    },
    {
      "cell_type": "code",
      "source": [
        "##My own example 141: mostrar una imagen\n",
        "import matplotlib.pyplot as plt\n",
        "from scipy import misc\n",
        "\n",
        "img = misc.face()\n",
        "\n",
        "plt.imshow(img)\n",
        "plt.show()"
      ],
      "metadata": {
        "colab": {
          "base_uri": "https://localhost:8080/",
          "height": 269
        },
        "id": "z2Egk-KEi-nY",
        "outputId": "b0d8c9b7-a676-4a10-e8fa-0337dae70c40"
      },
      "execution_count": null,
      "outputs": [
        {
          "output_type": "display_data",
          "data": {
            "text/plain": [
              "<Figure size 432x288 with 1 Axes>"
            ],
            "image/png": "[encoded data removed]"
          },
          "metadata": {
            "needs_background": "light"
          }
        }
      ]
    },
    {
      "cell_type": "code",
      "source": [
        "##My own example 142: convertir imagen a escala de grises\n",
        "import matplotlib.pyplot as plt\n",
        "from scipy import misc\n",
        "\n",
        "img = misc.face()\n",
        "img_gray = img @ [0.2126, 0.7152, 0.0722]\n",
        "\n",
        "plt.imshow(img_gray, cmap=\"gray\")\n",
        "plt.show()"
      ],
      "metadata": {
        "colab": {
          "base_uri": "https://localhost:8080/",
          "height": 269
        },
        "id": "nKDwvp2mjDXl",
        "outputId": "42e13703-62e9-4680-bc5c-f8d2b2dd3a2b"
      },
      "execution_count": null,
      "outputs": [
        {
          "output_type": "display_data",
          "data": {
            "text/plain": [
              "<Figure size 432x288 with 1 Axes>"
            ],
            "image/png": "[encoded data removed]"
          },
          "metadata": {
            "needs_background": "light"
          }
        }
      ]
    },
    {
      "cell_type": "code",
      "source": [
        "##My own example 143: numpy array slicing\n",
        "import numpy as np\n",
        "\n",
        "arr = np.array([[1,2,3],[4,5,6],[7,8,9]])\n",
        "\n",
        "print(arr[:,2])\n",
        "print(arr[0,:])"
      ],
      "metadata": {
        "colab": {
          "base_uri": "https://localhost:8080/"
        },
        "id": "ZxwvZ207jFbE",
        "outputId": "8c910576-13ca-4996-d26e-c2613b21a955"
      },
      "execution_count": null,
      "outputs": [
        {
          "output_type": "stream",
          "name": "stdout",
          "text": [
            "[3 6 9]\n",
            "[1 2 3]\n"
          ]
        }
      ]
    },
    {
      "cell_type": "code",
      "source": [
        "##My own example 144:  otro array con numpy\n",
        "import numpy as np\n",
        "\n",
        "a = np.array([1,54,4,-10,0,2,54,7,4])\n",
        "print(a>5)"
      ],
      "metadata": {
        "colab": {
          "base_uri": "https://localhost:8080/"
        },
        "id": "V8VwrYLIjH67",
        "outputId": "5cb60d41-d632-4a1d-c84a-24cee81ed0e7"
      },
      "execution_count": null,
      "outputs": [
        {
          "output_type": "stream",
          "name": "stdout",
          "text": [
            "[False  True False False False False  True  True False]\n"
          ]
        }
      ]
    },
    {
      "cell_type": "code",
      "source": [
        "##My own example 145:  numpy where\n",
        "import numpy as np\n",
        "\n",
        "a = np.array([1,54,9,-11,0,2,54,7,4])\n",
        "print(a%2 == 0)\n",
        "print(np.where(a%2 == 0))"
      ],
      "metadata": {
        "colab": {
          "base_uri": "https://localhost:8080/"
        },
        "id": "RspF12eojJyJ",
        "outputId": "178b434f-e2cd-4052-edfb-3fa87632f699"
      },
      "execution_count": null,
      "outputs": [
        {
          "output_type": "stream",
          "name": "stdout",
          "text": [
            "[False  True False False  True  True  True False  True]\n",
            "(array([1, 4, 5, 6, 8]),)\n"
          ]
        }
      ]
    },
    {
      "cell_type": "code",
      "source": [
        "##My own example 146:  escribir en un numpy array\n",
        "import numpy as np\n",
        "\n",
        "a = np.array([1,54,4,-10,0,2,54,7,4])\n",
        "a[2:-2] = -10\n",
        "print(a)"
      ],
      "metadata": {
        "colab": {
          "base_uri": "https://localhost:8080/"
        },
        "id": "5uzdPOcnjLse",
        "outputId": "1339b077-de9b-45d0-ac63-92b3bbefb1c6"
      },
      "execution_count": null,
      "outputs": [
        {
          "output_type": "stream",
          "name": "stdout",
          "text": [
            "[  1  54 -10 -10 -10 -10 -10   7   4]\n"
          ]
        }
      ]
    },
    {
      "cell_type": "code",
      "source": [
        "##My own example 147: concatenar array en el eje 0\n",
        "import numpy as np\n",
        "\n",
        "a = np.array([1,54,4,-10,0,2,54,7,4])\n",
        "b = np.array([7,7,7])\n",
        "print(np.hstack([a,b]))"
      ],
      "metadata": {
        "colab": {
          "base_uri": "https://localhost:8080/"
        },
        "id": "OMaDpNzAjNbq",
        "outputId": "3be48f97-c0c3-4f8b-862c-4de86fb71c2d"
      },
      "execution_count": null,
      "outputs": [
        {
          "output_type": "stream",
          "name": "stdout",
          "text": [
            "[  1  54   4 -10   0   2  54   7   4   7   7   7]\n"
          ]
        }
      ]
    },
    {
      "cell_type": "code",
      "source": [
        "##My own example 148: concatenar array en el eje 1\n",
        "import numpy as np\n",
        "\n",
        "a = np.array([1,54,4,-10,0,2,54,7,4])\n",
        "b = np.array([7,7,7,7,7,7,7,7,7])\n",
        "print(np.vstack([a,b]))"
      ],
      "metadata": {
        "colab": {
          "base_uri": "https://localhost:8080/"
        },
        "id": "k8KwLlVZjPVA",
        "outputId": "e606027d-4fa6-488f-aff6-329588be3c2c"
      },
      "execution_count": null,
      "outputs": [
        {
          "output_type": "stream",
          "name": "stdout",
          "text": [
            "[[  1  54   4 -10   0   2  54   7   4]\n",
            " [  7   7   7   7   7   7   7   7   7]]\n"
          ]
        }
      ]
    },
    {
      "cell_type": "code",
      "source": [
        "##My own example 149: concatenar como columnas\n",
        "import numpy as np\n",
        "\n",
        "a = np.array([1,54,4,-10,0,2,54,7,4])\n",
        "b = np.array([7,7,7,7,7,7,7,7,7])\n",
        "print(np.column_stack([a,b]))"
      ],
      "metadata": {
        "colab": {
          "base_uri": "https://localhost:8080/"
        },
        "id": "sFB_GabujQyH",
        "outputId": "ff3236bf-b5bf-4e5d-8851-a6e645a9b9e1"
      },
      "execution_count": null,
      "outputs": [
        {
          "output_type": "stream",
          "name": "stdout",
          "text": [
            "[[  1   7]\n",
            " [ 54   7]\n",
            " [  4   7]\n",
            " [-10   7]\n",
            " [  0   7]\n",
            " [  2   7]\n",
            " [ 54   7]\n",
            " [  7   7]\n",
            " [  4   7]]\n"
          ]
        }
      ]
    },
    {
      "cell_type": "code",
      "source": [
        "##My own example 150:  plotear x^2\n",
        "import numpy as np\n",
        "import matplotlib.pyplot as plt\n",
        "\n",
        "a = np.array([0,1,2,3,4,5])\n",
        "b = a**2\n",
        "\n",
        "plt.plot(a,b)\n",
        "plt.show()"
      ],
      "metadata": {
        "colab": {
          "base_uri": "https://localhost:8080/",
          "height": 265
        },
        "id": "WOi9rB44jSJD",
        "outputId": "06184266-ca88-405e-aeb8-39560f2d905e"
      },
      "execution_count": null,
      "outputs": [
        {
          "output_type": "display_data",
          "data": {
            "text/plain": [
              "<Figure size 432x288 with 1 Axes>"
            ],
            "image/png": "[encoded data removed]"
          },
          "metadata": {
            "needs_background": "light"
          }
        }
      ]
    },
    {
      "cell_type": "code",
      "source": [
        "##My own example 151:  numpy arange\n",
        "import numpy as np\n",
        "import matplotlib.pyplot as plt\n",
        "\n",
        "x = np.arange(0,4*np.pi,0.1)   # start,stop,step\n",
        "y = np.sin(x)\n",
        "\n",
        "plt.plot(x,y)\n",
        "plt.show()"
      ],
      "metadata": {
        "colab": {
          "base_uri": "https://localhost:8080/",
          "height": 265
        },
        "id": "u-yRHjFwjTw3",
        "outputId": "b2864bf8-1cb2-4b63-cdc4-8d3ab0cabf9f"
      },
      "execution_count": null,
      "outputs": [
        {
          "output_type": "display_data",
          "data": {
            "text/plain": [
              "<Figure size 432x288 with 1 Axes>"
            ],
            "image/png": "[encoded data removed]"
          },
          "metadata": {
            "needs_background": "light"
          }
        }
      ]
    },
    {
      "cell_type": "code",
      "source": [
        "##My own example 152:  añadir ruido\n",
        "import numpy as np\n",
        "import matplotlib.pyplot as plt\n",
        "\n",
        "x = np.arange(0,4*np.pi,0.1)   \n",
        "noise = np.random.normal(0,0.4,len(x)) \n",
        "y = np.sin(x) + noise # añadir ruido\n",
        "\n",
        "plt.plot(x,y)\n",
        "plt.show()"
      ],
      "metadata": {
        "colab": {
          "base_uri": "https://localhost:8080/",
          "height": 265
        },
        "id": "oF6LUjD3jVUO",
        "outputId": "e3d81df6-6ef6-4a13-a888-d43d968e3dd4"
      },
      "execution_count": null,
      "outputs": [
        {
          "output_type": "display_data",
          "data": {
            "text/plain": [
              "<Figure size 432x288 with 1 Axes>"
            ],
            "image/png": "[encoded data removed]"
          },
          "metadata": {
            "needs_background": "light"
          }
        }
      ]
    },
    {
      "cell_type": "code",
      "source": [
        "##My own example 153:  promedio mobil\n",
        "import numpy as np\n",
        "import matplotlib.pyplot as plt\n",
        "\n",
        "def moving_average(a, n=3) :\n",
        "    ret = np.cumsum(a, dtype=float)\n",
        "    ret[n:] = ret[n:] - ret[:-n]\n",
        "    return ret[n - 1:] / n\n",
        "\n",
        "x = np.arange(0,4*np.pi,0.1)   \n",
        "noise = np.random.normal(0,0.2,len(x)) \n",
        "y = np.sin(x) + noise # añadir ruido\n",
        "y_filtered = moving_average(y)\n",
        "\n",
        "plt.plot(x[:-2],y_filtered)\n",
        "plt.show()"
      ],
      "metadata": {
        "colab": {
          "base_uri": "https://localhost:8080/",
          "height": 265
        },
        "id": "0yrIE5BAjWs3",
        "outputId": "a22987b0-5309-4cc8-a715-7e001cc0d46a"
      },
      "execution_count": null,
      "outputs": [
        {
          "output_type": "display_data",
          "data": {
            "text/plain": [
              "<Figure size 432x288 with 1 Axes>"
            ],
            "image/png": "[encoded data removed]"
          },
          "metadata": {
            "needs_background": "light"
          }
        }
      ]
    },
    {
      "cell_type": "code",
      "source": [
        "##My own example 154:  numpy all\n",
        "\n",
        "import numpy as np\n",
        "\n",
        "a = np.array([2,-4,-9,3,7,-2,1])\n",
        "\n",
        "if (a>0).all():\n",
        "    print(\"Todos mayores a 0\")\n",
        "else:\n",
        "    print(\"No todos mayores a 0\")"
      ],
      "metadata": {
        "colab": {
          "base_uri": "https://localhost:8080/"
        },
        "id": "I1MbNPdukQmm",
        "outputId": "d6123b66-24f5-4efe-ac42-a8e99be0e00f"
      },
      "execution_count": null,
      "outputs": [
        {
          "output_type": "stream",
          "name": "stdout",
          "text": [
            "No todos mayores a 0\n"
          ]
        }
      ]
    },
    {
      "cell_type": "code",
      "source": [
        "##My own example 155:  numpy any\n",
        "\n",
        "import numpy as np\n",
        "\n",
        "a = np.array([2,-4,-9,3,7,-2,1])\n",
        "\n",
        "if (a>0).any():\n",
        "    print(\"Alguno mayor a 0\")\n",
        "else:\n",
        "    print(\"Ninguno mayor a 0\")"
      ],
      "metadata": {
        "colab": {
          "base_uri": "https://localhost:8080/"
        },
        "id": "IpPfk2UwkWt0",
        "outputId": "a8c4304f-bb2b-4e21-cda7-bbe6c2959a99"
      },
      "execution_count": null,
      "outputs": [
        {
          "output_type": "stream",
          "name": "stdout",
          "text": [
            "Alguno mayor a 0\n"
          ]
        }
      ]
    },
    {
      "cell_type": "code",
      "source": [
        "##My own example 156: ver el tamaño del hash en entero\n",
        "import hashlib\n",
        "\n",
        "m = hashlib.sha256(b'mensaje')\n",
        "print(m.digest_size)    "
      ],
      "metadata": {
        "colab": {
          "base_uri": "https://localhost:8080/"
        },
        "id": "GsqZXb9Okd80",
        "outputId": "4228e67f-2b11-4111-f8c5-578207773fd1"
      },
      "execution_count": null,
      "outputs": [
        {
          "output_type": "stream",
          "name": "stdout",
          "text": [
            "32\n"
          ]
        }
      ]
    },
    {
      "cell_type": "code",
      "source": [
        "##My own example 157: seno y coseno\n",
        "\n",
        "import math\n",
        "\n",
        "ss = 0\n",
        "print(math.sin(ss))"
      ],
      "metadata": {
        "colab": {
          "base_uri": "https://localhost:8080/"
        },
        "id": "CgQ4PL0flesG",
        "outputId": "c266b3d7-813d-43d4-c8e6-8d455a7f2fad"
      },
      "execution_count": null,
      "outputs": [
        {
          "output_type": "stream",
          "name": "stdout",
          "text": [
            "0.0\n"
          ]
        }
      ]
    },
    {
      "cell_type": "code",
      "source": [
        "##My own example 158: seno y coseno\n",
        "\n",
        "import math\n",
        "\n",
        "cs = 0\n",
        "print(math.cos(cs))"
      ],
      "metadata": {
        "colab": {
          "base_uri": "https://localhost:8080/"
        },
        "id": "8eydskZzmJ-H",
        "outputId": "00d24fdd-b249-4317-d3b2-a6fbff5db4d6"
      },
      "execution_count": null,
      "outputs": [
        {
          "output_type": "stream",
          "name": "stdout",
          "text": [
            "1.0\n"
          ]
        }
      ]
    },
    {
      "cell_type": "code",
      "source": [
        "##My own example 159: tangente\n",
        "import math\n",
        "\n",
        "tt = 45\n",
        "print(math.tan(tt))"
      ],
      "metadata": {
        "colab": {
          "base_uri": "https://localhost:8080/"
        },
        "id": "yXjJLtNsmVNM",
        "outputId": "e7261079-9782-4932-feea-c154f5959a4b"
      },
      "execution_count": null,
      "outputs": [
        {
          "output_type": "stream",
          "name": "stdout",
          "text": [
            "1.6197751905438615\n"
          ]
        }
      ]
    },
    {
      "cell_type": "code",
      "source": [
        "##My own example 160: trigonometria\n",
        "import math\n",
        "\n",
        "print (math.degrees(0.7853981633974483))  ##uso de grados\n"
      ],
      "metadata": {
        "colab": {
          "base_uri": "https://localhost:8080/"
        },
        "id": "LvUFVgsLmfGP",
        "outputId": "4eb8c2d7-cdcc-4326-bd57-8c8813e62d99"
      },
      "execution_count": null,
      "outputs": [
        {
          "output_type": "stream",
          "name": "stdout",
          "text": [
            "45.0\n"
          ]
        }
      ]
    },
    {
      "cell_type": "code",
      "source": [
        "##My own example 161: trigonometria\n",
        "\n",
        "print(math.radians(90))  ##uso de radianes"
      ],
      "metadata": {
        "colab": {
          "base_uri": "https://localhost:8080/"
        },
        "id": "rdIg-HRSm2Bn",
        "outputId": "bf7ad4ff-b9a2-4e2e-9f97-e35345234052"
      },
      "execution_count": null,
      "outputs": [
        {
          "output_type": "stream",
          "name": "stdout",
          "text": [
            "1.5707963267948966\n"
          ]
        }
      ]
    },
    {
      "cell_type": "code",
      "source": [
        "##My own example 162: trigonometria\n",
        "\n",
        "print(math.hypot(3, 4))  #uso de la hipotenusa"
      ],
      "metadata": {
        "colab": {
          "base_uri": "https://localhost:8080/"
        },
        "id": "Moipjv1Am_aK",
        "outputId": "ac239133-5028-4806-da2c-bd4a89c8ff29"
      },
      "execution_count": null,
      "outputs": [
        {
          "output_type": "stream",
          "name": "stdout",
          "text": [
            "5.0\n"
          ]
        }
      ]
    },
    {
      "cell_type": "code",
      "source": [
        "##My own example 163: trigonometria\n",
        "\n",
        "import math\n",
        "\n",
        "def sen(grados):\n",
        "    return math.sin(math.radians(grados))  ##funcion para convertir el seno de un numero a grados radianes\n",
        "print(sen(30))"
      ],
      "metadata": {
        "colab": {
          "base_uri": "https://localhost:8080/"
        },
        "id": "IpOXjrI2nN8G",
        "outputId": "a161a544-5633-4e89-f8e8-4fef4d22a367"
      },
      "execution_count": null,
      "outputs": [
        {
          "output_type": "stream",
          "name": "stdout",
          "text": [
            "0.49999999999999994\n"
          ]
        }
      ]
    },
    {
      "cell_type": "code",
      "source": [
        "##My own example 164: libreria matplotlib diagrama de dispersion de puntos\n",
        "\n",
        "import matplotlib.pyplot as plt\n",
        "# Crear la figura y los ejes\n",
        "fig, ax = plt.subplots()\n",
        "# Dibujar puntos\n",
        "ax.scatter(x = [1, 2, 3], y = [3, 2, 1])\n",
        "# Guardar el gráfico en formato png\n",
        "plt.savefig('diagrama-dispersion.png')\n",
        "# Mostrar el gráfico\n",
        "plt.show()"
      ],
      "metadata": {
        "colab": {
          "base_uri": "https://localhost:8080/",
          "height": 265
        },
        "id": "1L1zIa5Bnn8z",
        "outputId": "af59f97d-1f29-40c0-a8e9-615c3dbd1aa7"
      },
      "execution_count": null,
      "outputs": [
        {
          "output_type": "display_data",
          "data": {
            "text/plain": [
              "<Figure size 432x288 with 1 Axes>"
            ],
            "image/png": "[encoded data removed]"
          },
          "metadata": {
            "needs_background": "light"
          }
        }
      ]
    },
    {
      "cell_type": "code",
      "source": [
        "##My own example 165: libreria matplotlib diagrama de lineas\n",
        "import matplotlib.pyplot as plt\n",
        "fig, ax = plt.subplots()\n",
        "ax.plot([1, 2, 3, 4], [1, 2, 3, 0.5])\n",
        "plt.show()"
      ],
      "metadata": {
        "id": "bQHRlMX4qAQP",
        "outputId": "cb4e075b-91cb-4586-f888-4a269148201f",
        "colab": {
          "base_uri": "https://localhost:8080/",
          "height": 265
        }
      },
      "execution_count": 3,
      "outputs": [
        {
          "output_type": "display_data",
          "data": {
            "text/plain": [
              "<Figure size 432x288 with 1 Axes>"
            ],
            "image/png": "[encoded data removed]"
          },
          "metadata": {
            "needs_background": "light"
          }
        }
      ]
    },
    {
      "cell_type": "code",
      "source": [
        "##My own example 166: libreria matplotlib diagrama de areas\n",
        "import matplotlib.pyplot as plt\n",
        "fig, ax = plt.subplots()\n",
        "ax.fill_between([1, 2, 3, 4], [1, 2, 3, 0.5])\n",
        "plt.show()"
      ],
      "metadata": {
        "colab": {
          "base_uri": "https://localhost:8080/",
          "height": 265
        },
        "id": "5xLYYdaU4Q42",
        "outputId": "b5305a95-801c-44b4-dc77-fc02435ed751"
      },
      "execution_count": 4,
      "outputs": [
        {
          "output_type": "display_data",
          "data": {
            "text/plain": [
              "<Figure size 432x288 with 1 Axes>"
            ],
            "image/png": "[encoded data removed]"
          },
          "metadata": {
            "needs_background": "light"
          }
        }
      ]
    },
    {
      "cell_type": "code",
      "source": [
        "##My own example 167: libreria matplotlib diagrama de barras verticales\n",
        "import matplotlib.pyplot as plt\n",
        "fig, ax = plt.subplots()\n",
        "ax.bar([1, 2, 3], [3, 2, 1])\n",
        "plt.show()\n"
      ],
      "metadata": {
        "colab": {
          "base_uri": "https://localhost:8080/",
          "height": 265
        },
        "id": "qlWpY-EW5Hsu",
        "outputId": "2a8f1989-de97-4c0b-f439-3a246f5032ec"
      },
      "execution_count": 5,
      "outputs": [
        {
          "output_type": "display_data",
          "data": {
            "text/plain": [
              "<Figure size 432x288 with 1 Axes>"
            ],
            "image/png": "[encoded data removed]"
          },
          "metadata": {
            "needs_background": "light"
          }
        }
      ]
    },
    {
      "cell_type": "code",
      "source": [
        "##My own example 168: libreria matplotlib diagrama de barras horizontales\n",
        "import matplotlib.pyplot as plt\n",
        "fig, ax = plt.subplots()\n",
        "ax.barh([1, 2, 3], [3, 2, 1])\n",
        "plt.show()"
      ],
      "metadata": {
        "colab": {
          "base_uri": "https://localhost:8080/",
          "height": 267
        },
        "id": "XFeki4cf5Tp7",
        "outputId": "c39538a0-4f04-4067-d7dc-df8ac0f58525"
      },
      "execution_count": 6,
      "outputs": [
        {
          "output_type": "display_data",
          "data": {
            "text/plain": [
              "<Figure size 432x288 with 1 Axes>"
            ],
            "image/png": "[encoded data removed]"
          },
          "metadata": {
            "needs_background": "light"
          }
        }
      ]
    },
    {
      "cell_type": "code",
      "source": [
        "##My own example 169: libreria matplotlib histograma\n",
        "import numpy as np\n",
        "import matplotlib.pyplot as plt\n",
        "fig, ax = plt.subplots()\n",
        "x = np.random.normal(5, 1.5, size=1000)\n",
        "ax.hist(x, np.arange(0, 11))\n",
        "plt.show()"
      ],
      "metadata": {
        "colab": {
          "base_uri": "https://localhost:8080/",
          "height": 265
        },
        "id": "AQDkxFpu5hd7",
        "outputId": "67502b70-585b-464a-84d6-0bd79d007d60"
      },
      "execution_count": 7,
      "outputs": [
        {
          "output_type": "display_data",
          "data": {
            "text/plain": [
              "<Figure size 432x288 with 1 Axes>"
            ],
            "image/png": "[encoded data removed]"
          },
          "metadata": {
            "needs_background": "light"
          }
        }
      ]
    },
    {
      "cell_type": "code",
      "source": [
        "##My own example 170: libreria matplotlib diagrama de sectores\n",
        "import matplotlib.pyplot as plt\n",
        "fig, ax = plt.subplots()\n",
        "ax.pie([1, 4, 2, 3, 5])\n",
        "plt.show()"
      ],
      "metadata": {
        "colab": {
          "base_uri": "https://localhost:8080/",
          "height": 248
        },
        "id": "tF8m2iP8-pm3",
        "outputId": "32a08360-6708-45a8-c90c-983cba30ec58"
      },
      "execution_count": 13,
      "outputs": [
        {
          "output_type": "display_data",
          "data": {
            "text/plain": [
              "<Figure size 432x288 with 1 Axes>"
            ],
            "image/png": "[encoded data removed]"
          },
          "metadata": {}
        }
      ]
    },
    {
      "cell_type": "code",
      "source": [
        "##My own example 171: libreria matplotlib diagrama de cajas y bigote\n",
        "import matplotlib.pyplot as plt\n",
        "fig, ax = plt.subplots()\n",
        "ax.boxplot([1, 2, 1, 2, 3, 4, 3, 3, 5, 7])\n",
        "plt.show()"
      ],
      "metadata": {
        "colab": {
          "base_uri": "https://localhost:8080/",
          "height": 265
        },
        "id": "DVvF79Wk-wqG",
        "outputId": "e8002e3f-dfaa-4f22-deac-bb762ee83a67"
      },
      "execution_count": 9,
      "outputs": [
        {
          "output_type": "display_data",
          "data": {
            "text/plain": [
              "<Figure size 432x288 with 1 Axes>"
            ],
            "image/png": "[encoded data removed]"
          },
          "metadata": {
            "needs_background": "light"
          }
        }
      ]
    },
    {
      "cell_type": "code",
      "source": [
        "##My own example 172: libreria matplotlib diagrama de violin\n",
        "import matplotlib.pyplot as plt\n",
        "fig, ax = plt.subplots()\n",
        "ax.violinplot([1, 2, 1, 2, 2, 4, 2, 3, 5, 7])\n",
        "plt.show()"
      ],
      "metadata": {
        "colab": {
          "base_uri": "https://localhost:8080/",
          "height": 265
        },
        "id": "qxUWQSM9_A6-",
        "outputId": "867c2b44-1c62-4f53-e493-0e3f863fe38b"
      },
      "execution_count": 14,
      "outputs": [
        {
          "output_type": "display_data",
          "data": {
            "text/plain": [
              "<Figure size 432x288 with 1 Axes>"
            ],
            "image/png": "[encoded data removed]"
          },
          "metadata": {
            "needs_background": "light"
          }
        }
      ]
    },
    {
      "cell_type": "code",
      "source": [
        "##My own example 173: libreria matplotlib diagrama de contorno\n",
        "import matplotlib.pyplot as plt\n",
        "fig, ax = plt.subplots()\n",
        "x = np.linspace(-1.0, 1.0, 140)\n",
        "y = np.linspace(-1.0, 1.0, 140)\n",
        "x, y = np.meshgrid(x, y)\n",
        "z = np.sqrt(x**2 + 2*y**2)\n",
        "ax.contourf(x, y, z)\n",
        "plt.show()"
      ],
      "metadata": {
        "colab": {
          "base_uri": "https://localhost:8080/",
          "height": 269
        },
        "id": "MQacC756_ClQ",
        "outputId": "4448b607-bb50-4af8-a770-e797a1b92f6c"
      },
      "execution_count": 17,
      "outputs": [
        {
          "output_type": "display_data",
          "data": {
            "text/plain": [
              "<Figure size 432x288 with 1 Axes>"
            ],
            "image/png": "[encoded data removed]"
          },
          "metadata": {
            "needs_background": "light"
          }
        }
      ]
    },
    {
      "cell_type": "code",
      "source": [
        "##My own example 174: libreria matplotlib mapa de color\n",
        "import matplotlib.pyplot as plt\n",
        "fig, ax = plt.subplots()\n",
        "x = np.random.random((16, 16))\n",
        "ax.imshow(x)\n",
        "plt.show()"
      ],
      "metadata": {
        "colab": {
          "base_uri": "https://localhost:8080/",
          "height": 265
        },
        "id": "bWPVDfcM_E6I",
        "outputId": "7a254fff-4bb9-48d3-f068-c0455ddd91d2"
      },
      "execution_count": 12,
      "outputs": [
        {
          "output_type": "display_data",
          "data": {
            "text/plain": [
              "<Figure size 432x288 with 1 Axes>"
            ],
            "image/png": "[encoded data removed]"
          },
          "metadata": {
            "needs_background": "light"
          }
        }
      ]
    },
    {
      "cell_type": "code",
      "source": [
        "##My own example 175: pandas\n",
        "import pandas as pd\n",
        "\n",
        "price = [140.43, 155.43, 198.61, 112.32, 147.54, 132.65]\n",
        "s = pd.Series(price)\n",
        "s"
      ],
      "metadata": {
        "colab": {
          "base_uri": "https://localhost:8080/"
        },
        "id": "YR0hrKWnJYdj",
        "outputId": "3e30cf32-62aa-4ecc-f561-b9c55a626d99"
      },
      "execution_count": 19,
      "outputs": [
        {
          "output_type": "execute_result",
          "data": {
            "text/plain": [
              "0    140.43\n",
              "1    155.43\n",
              "2    198.61\n",
              "3    112.32\n",
              "4    147.54\n",
              "5    132.65\n",
              "dtype: float64"
            ]
          },
          "metadata": {},
          "execution_count": 19
        }
      ]
    },
    {
      "cell_type": "code",
      "source": [
        "##My own example 176: pandas\n",
        "s = pd.Series(price,index = ['q','w','e','r','t','y'])\n",
        "s"
      ],
      "metadata": {
        "colab": {
          "base_uri": "https://localhost:8080/"
        },
        "id": "KgH_JK2VJyYQ",
        "outputId": "ad3be1d6-0f20-468c-f186-97c2e94fbe0c"
      },
      "execution_count": 20,
      "outputs": [
        {
          "output_type": "execute_result",
          "data": {
            "text/plain": [
              "q    140.43\n",
              "w    155.43\n",
              "e    198.61\n",
              "r    112.32\n",
              "t    147.54\n",
              "y    132.65\n",
              "dtype: float64"
            ]
          },
          "metadata": {},
          "execution_count": 20
        }
      ]
    },
    {
      "cell_type": "code",
      "source": [
        "##My own example 177: pandas\n",
        "s.index = [1,2,3,4,5,6]\n",
        "s"
      ],
      "metadata": {
        "colab": {
          "base_uri": "https://localhost:8080/"
        },
        "id": "oFsvhVo1J5uG",
        "outputId": "723868e8-9787-49d9-a172-89cce264b433"
      },
      "execution_count": 21,
      "outputs": [
        {
          "output_type": "execute_result",
          "data": {
            "text/plain": [
              "1    140.43\n",
              "2    155.43\n",
              "3    198.61\n",
              "4    112.32\n",
              "5    147.54\n",
              "6    132.65\n",
              "dtype: float64"
            ]
          },
          "metadata": {},
          "execution_count": 21
        }
      ]
    },
    {
      "cell_type": "code",
      "source": [
        "##My own example 178: pandas\n",
        "print(s[3:])\n",
        "print(s[:-3])"
      ],
      "metadata": {
        "colab": {
          "base_uri": "https://localhost:8080/"
        },
        "id": "ateOnFXzKDG5",
        "outputId": "c14f796f-2798-4271-b68a-cbad56df3ff5"
      },
      "execution_count": 23,
      "outputs": [
        {
          "output_type": "stream",
          "name": "stdout",
          "text": [
            "4    112.32\n",
            "5    147.54\n",
            "6    132.65\n",
            "dtype: float64\n",
            "1    140.43\n",
            "2    155.43\n",
            "3    198.61\n",
            "dtype: float64\n"
          ]
        }
      ]
    },
    {
      "cell_type": "code",
      "source": [
        "##My own example 179: pandas\n",
        "print(s[3])\n",
        "s[3] = 0\n",
        "print(s)"
      ],
      "metadata": {
        "colab": {
          "base_uri": "https://localhost:8080/"
        },
        "id": "HkOrgijHKOA7",
        "outputId": "d2e2214d-5da9-45b3-dbad-6f3ad8c6c872"
      },
      "execution_count": 28,
      "outputs": [
        {
          "output_type": "stream",
          "name": "stdout",
          "text": [
            "0.0\n",
            "1    140.43\n",
            "2    155.43\n",
            "3      0.00\n",
            "4    112.32\n",
            "5    147.54\n",
            "6    132.65\n",
            "dtype: float64\n"
          ]
        }
      ]
    },
    {
      "cell_type": "code",
      "source": [
        "##My own example 180: pandas\n",
        "s = pd.Series(price, name = 'precio de las manzanas')\n",
        "print(s)\n",
        "print(s.name)"
      ],
      "metadata": {
        "colab": {
          "base_uri": "https://localhost:8080/"
        },
        "id": "y__gnflBKbuJ",
        "outputId": "62f469d0-cf0a-4a15-bd26-4ea816686ec5"
      },
      "execution_count": 29,
      "outputs": [
        {
          "output_type": "stream",
          "name": "stdout",
          "text": [
            "0    140.43\n",
            "1    155.43\n",
            "2    198.61\n",
            "3    112.32\n",
            "4    147.54\n",
            "5    132.65\n",
            "Name: precio de las manzanas, dtype: float64\n",
            "precio de las manzanas\n"
          ]
        }
      ]
    },
    {
      "cell_type": "code",
      "source": [
        "##My own example 181: pandas\n",
        "\n",
        "print(s.describe())"
      ],
      "metadata": {
        "colab": {
          "base_uri": "https://localhost:8080/"
        },
        "id": "aW4WJHUkKmb6",
        "outputId": "37c2aac7-f401-4a96-f9df-1786d50077ef"
      },
      "execution_count": 30,
      "outputs": [
        {
          "output_type": "stream",
          "name": "stdout",
          "text": [
            "count      6.000000\n",
            "mean     147.830000\n",
            "std       28.922673\n",
            "min      112.320000\n",
            "25%      134.595000\n",
            "50%      143.985000\n",
            "75%      153.457500\n",
            "max      198.610000\n",
            "Name: precio de las manzanas, dtype: float64\n"
          ]
        }
      ]
    },
    {
      "cell_type": "code",
      "source": [
        "##My own example 182: pandas\n",
        "time_index = pd.date_range('2022-03-01',periods = len(s),freq = 'D')\n",
        "print(time_index)\n",
        "s.index = time_index\n",
        "print(s)"
      ],
      "metadata": {
        "colab": {
          "base_uri": "https://localhost:8080/"
        },
        "id": "lK2bUK1bKzHM",
        "outputId": "71ddb6fd-f60f-4ba6-fd16-8cd147cf5066"
      },
      "execution_count": 32,
      "outputs": [
        {
          "output_type": "stream",
          "name": "stdout",
          "text": [
            "DatetimeIndex(['2022-03-01', '2022-03-02', '2022-03-03', '2022-03-04',\n",
            "               '2022-03-05', '2022-03-06'],\n",
            "              dtype='datetime64[ns]', freq='D')\n",
            "2022-03-01    140.43\n",
            "2022-03-02    155.43\n",
            "2022-03-03    198.61\n",
            "2022-03-04    112.32\n",
            "2022-03-05    147.54\n",
            "2022-03-06    132.65\n",
            "Freq: D, Name: precio de las manzanas, dtype: float64\n"
          ]
        }
      ]
    },
    {
      "cell_type": "code",
      "source": [
        "##My own example 183: pandas series\n",
        "\n",
        "# Crear diferentes tipos de datos\n",
        "labels = ['a','b','c'] # lista de etiquetas\n",
        "my_list = [10,20,30] # lista con valores\n",
        "arr = np.array([10,20,30]) # Convertir ista de valores en arreglo NumPy\n",
        "d = {'a':10,'b':20,'c':30} # Creacion de un diccionario\n",
        "\n",
        "# Convertir una lista en series usando el metodo pd.Series\n",
        "pd.Series(data=my_list)\n"
      ],
      "metadata": {
        "colab": {
          "base_uri": "https://localhost:8080/"
        },
        "id": "2aCkvwJEK8DO",
        "outputId": "76f079a0-b0e9-4954-c354-58be0689b771"
      },
      "execution_count": 36,
      "outputs": [
        {
          "output_type": "execute_result",
          "data": {
            "text/plain": [
              "0    10\n",
              "1    20\n",
              "2    30\n",
              "dtype: int64"
            ]
          },
          "metadata": {},
          "execution_count": 36
        }
      ]
    },
    {
      "cell_type": "code",
      "source": [
        "##My own example 184: pandas series\n",
        "\n",
        "# se puede ingresar el nombre de las posiciones\n",
        "pd.Series(data=my_list,index=labels)"
      ],
      "metadata": {
        "colab": {
          "base_uri": "https://localhost:8080/"
        },
        "id": "O1lR1jMYMmZc",
        "outputId": "cba94d48-6aa1-4392-9c0d-1df3d52c0157"
      },
      "execution_count": 35,
      "outputs": [
        {
          "output_type": "execute_result",
          "data": {
            "text/plain": [
              "a    10\n",
              "b    20\n",
              "c    30\n",
              "dtype: int64"
            ]
          },
          "metadata": {},
          "execution_count": 35
        }
      ]
    },
    {
      "cell_type": "code",
      "source": [
        "##My own example 185: pandas series\n",
        "\n",
        "\n",
        "# No es necesario ingresar la palabra de 'data =''  en el argumento\n",
        "pd.Series(my_list,labels)"
      ],
      "metadata": {
        "colab": {
          "base_uri": "https://localhost:8080/"
        },
        "id": "O8WOuJD4M6vt",
        "outputId": "f1255e36-68bd-4b96-be80-815f38f0b444"
      },
      "execution_count": 37,
      "outputs": [
        {
          "output_type": "execute_result",
          "data": {
            "text/plain": [
              "a    10\n",
              "b    20\n",
              "c    30\n",
              "dtype: int64"
            ]
          },
          "metadata": {},
          "execution_count": 37
        }
      ]
    },
    {
      "cell_type": "code",
      "source": [
        "##My own example 186: pandas series\n",
        "\n",
        "# Convertir un arreglo en series usando el metodo pd.Series\n",
        "pd.Series(arr)"
      ],
      "metadata": {
        "colab": {
          "base_uri": "https://localhost:8080/"
        },
        "id": "-UzAhQ3NNByN",
        "outputId": "65c2fc98-3350-4de1-848b-4247335362eb"
      },
      "execution_count": 38,
      "outputs": [
        {
          "output_type": "execute_result",
          "data": {
            "text/plain": [
              "0    10\n",
              "1    20\n",
              "2    30\n",
              "dtype: int64"
            ]
          },
          "metadata": {},
          "execution_count": 38
        }
      ]
    },
    {
      "cell_type": "code",
      "source": [
        "##My own example 187: pandas series\n",
        "\n",
        "# Convertir un arreglo en series indicando tambien los valores del index\n",
        "pd.Series(arr,labels)"
      ],
      "metadata": {
        "colab": {
          "base_uri": "https://localhost:8080/"
        },
        "id": "SNuoooEDNEfH",
        "outputId": "c295f6ab-2087-46c1-df65-dbfb594b4f22"
      },
      "execution_count": 39,
      "outputs": [
        {
          "output_type": "execute_result",
          "data": {
            "text/plain": [
              "a    10\n",
              "b    20\n",
              "c    30\n",
              "dtype: int64"
            ]
          },
          "metadata": {},
          "execution_count": 39
        }
      ]
    },
    {
      "cell_type": "code",
      "source": [
        "##My own example 188: pandas series\n",
        "\n",
        "# Creando una serie basado solo en una lista de letras\n",
        "pd.Series(data=labels)"
      ],
      "metadata": {
        "colab": {
          "base_uri": "https://localhost:8080/"
        },
        "id": "ReFTPgIhNQwK",
        "outputId": "3863efae-3c7c-4b40-a90d-2f0b6a3b7719"
      },
      "execution_count": 40,
      "outputs": [
        {
          "output_type": "execute_result",
          "data": {
            "text/plain": [
              "0    a\n",
              "1    b\n",
              "2    c\n",
              "dtype: object"
            ]
          },
          "metadata": {},
          "execution_count": 40
        }
      ]
    },
    {
      "cell_type": "code",
      "source": [
        "##My own example 189: pandas series, indexacion\n",
        "\n",
        "# Creacion de una serie con sus labels o indices\n",
        "ser1 = pd.Series([1,2,3,4],index = ['EEUU', 'COLOMBIA','ALEMANIA', 'KOREA'])       \n",
        "\n",
        "ser1"
      ],
      "metadata": {
        "colab": {
          "base_uri": "https://localhost:8080/"
        },
        "id": "1IOjRDnlNac8",
        "outputId": "80c65a0f-b379-4f57-8362-ee7479a129d2"
      },
      "execution_count": 43,
      "outputs": [
        {
          "output_type": "execute_result",
          "data": {
            "text/plain": [
              "EEUU        1\n",
              "COLOMBIA    2\n",
              "ALEMANIA    3\n",
              "KOREA       4\n",
              "dtype: int64"
            ]
          },
          "metadata": {},
          "execution_count": 43
        }
      ]
    },
    {
      "cell_type": "code",
      "source": [
        "##My own example 190: pandas series, indexacion\n",
        "\n",
        "ser1['EEUU']  #la busqueda es igual que en un diccionario"
      ],
      "metadata": {
        "colab": {
          "base_uri": "https://localhost:8080/"
        },
        "id": "kT9ZAgWyNgtH",
        "outputId": "3e566bd3-abb9-46f8-ad16-1c368c4c5270"
      },
      "execution_count": 44,
      "outputs": [
        {
          "output_type": "execute_result",
          "data": {
            "text/plain": [
              "1"
            ]
          },
          "metadata": {},
          "execution_count": 44
        }
      ]
    },
    {
      "cell_type": "code",
      "source": [
        "##My own example 191: pandas series, indexacion\n",
        "\n",
        "ser2 = pd.Series([1,2,5,4],index = ['EEUU', 'ALEMANIA','CHINA', 'RUSIA'])\n",
        "ser1 + ser2  "
      ],
      "metadata": {
        "colab": {
          "base_uri": "https://localhost:8080/"
        },
        "id": "wSf5V7IROHyO",
        "outputId": "302eac22-5ceb-4afa-e6bf-2ed3cfa6d60c"
      },
      "execution_count": 45,
      "outputs": [
        {
          "output_type": "execute_result",
          "data": {
            "text/plain": [
              "ALEMANIA    5.0\n",
              "CHINA       NaN\n",
              "COLOMBIA    NaN\n",
              "EEUU        2.0\n",
              "KOREA       NaN\n",
              "RUSIA       NaN\n",
              "dtype: float64"
            ]
          },
          "metadata": {},
          "execution_count": 45
        }
      ]
    },
    {
      "cell_type": "code",
      "source": [
        "##My own example 2: dataframes\n",
        "\n",
        "from numpy.random import randn\n",
        "np.random.seed(101)  ##importamos una semilla\n",
        "\n",
        "'A B C D E'.split()  #lista de python de splits\n"
      ],
      "metadata": {
        "colab": {
          "base_uri": "https://localhost:8080/"
        },
        "id": "Diof9p_qOfuT",
        "outputId": "517f9194-6aa2-43dd-c8f9-f8c279177831"
      },
      "execution_count": 48,
      "outputs": [
        {
          "output_type": "execute_result",
          "data": {
            "text/plain": [
              "['A', 'B', 'C', 'D', 'E']"
            ]
          },
          "metadata": {},
          "execution_count": 48
        }
      ]
    },
    {
      "cell_type": "code",
      "source": [
        "##My own example 192: dataframes\n",
        "df = pd.DataFrame(randn(5,4),                #creando un dataframe con numeros aleatoreos de 4 columnas y 5 filas\n",
        "                  index='A B C D E'.split(),\n",
        "                  columns='W X Y Z'.split())\n",
        "\n",
        "df"
      ],
      "metadata": {
        "colab": {
          "base_uri": "https://localhost:8080/",
          "height": 206
        },
        "id": "gz4f288eO4wN",
        "outputId": "35507571-8885-404f-a75b-8afd050d355f"
      },
      "execution_count": 49,
      "outputs": [
        {
          "output_type": "execute_result",
          "data": {
            "text/plain": [
              "          W         X         Y         Z\n",
              "A  2.706850  0.628133  0.907969  0.503826\n",
              "B  0.651118 -0.319318 -0.848077  0.605965\n",
              "C -2.018168  0.740122  0.528813 -0.589001\n",
              "D  0.188695 -0.758872 -0.933237  0.955057\n",
              "E  0.190794  1.978757  2.605967  0.683509"
            ],
            "text/html": [
              "\n",
              "  <div id=\"df-0b7896f2-3101-48ca-9af8-9c1ced7f582f\">\n",
              "    <div class=\"colab-df-container\">\n",
              "      <div>\n",
              "<style scoped>\n",
              "    .dataframe tbody tr th:only-of-type {\n",
              "        vertical-align: middle;\n",
              "    }\n",
              "\n",
              "    .dataframe tbody tr th {\n",
              "        vertical-align: top;\n",
              "    }\n",
              "\n",
              "    .dataframe thead th {\n",
              "        text-align: right;\n",
              "    }\n",
              "</style>\n",
              "<table border=\"1\" class=\"dataframe\">\n",
              "  <thead>\n",
              "    <tr style=\"text-align: right;\">\n",
              "      <th></th>\n",
              "      <th>W</th>\n",
              "      <th>X</th>\n",
              "      <th>Y</th>\n",
              "      <th>Z</th>\n",
              "    </tr>\n",
              "  </thead>\n",
              "  <tbody>\n",
              "    <tr>\n",
              "      <th>A</th>\n",
              "      <td>2.706850</td>\n",
              "      <td>0.628133</td>\n",
              "      <td>0.907969</td>\n",
              "      <td>0.503826</td>\n",
              "    </tr>\n",
              "    <tr>\n",
              "      <th>B</th>\n",
              "      <td>0.651118</td>\n",
              "      <td>-0.319318</td>\n",
              "      <td>-0.848077</td>\n",
              "      <td>0.605965</td>\n",
              "    </tr>\n",
              "    <tr>\n",
              "      <th>C</th>\n",
              "      <td>-2.018168</td>\n",
              "      <td>0.740122</td>\n",
              "      <td>0.528813</td>\n",
              "      <td>-0.589001</td>\n",
              "    </tr>\n",
              "    <tr>\n",
              "      <th>D</th>\n",
              "      <td>0.188695</td>\n",
              "      <td>-0.758872</td>\n",
              "      <td>-0.933237</td>\n",
              "      <td>0.955057</td>\n",
              "    </tr>\n",
              "    <tr>\n",
              "      <th>E</th>\n",
              "      <td>0.190794</td>\n",
              "      <td>1.978757</td>\n",
              "      <td>2.605967</td>\n",
              "      <td>0.683509</td>\n",
              "    </tr>\n",
              "  </tbody>\n",
              "</table>\n",
              "</div>\n",
              "      <button class=\"colab-df-convert\" onclick=\"convertToInteractive('df-0b7896f2-3101-48ca-9af8-9c1ced7f582f')\"\n",
              "              title=\"Convert this dataframe to an interactive table.\"\n",
              "              style=\"display:none;\">\n",
              "        \n",
              "  <svg xmlns=\"http://www.w3.org/2000/svg\" height=\"24px\"viewBox=\"0 0 24 24\"\n",
              "       width=\"24px\">\n",
              "    <path d=\"M0 0h24v24H0V0z\" fill=\"none\"/>\n",
              "    <path d=\"M18.56 5.44l.94 2.06.94-2.06 2.06-.94-2.06-.94-.94-2.06-.94 2.06-2.06.94zm-11 1L8.5 8.5l.94-2.06 2.06-.94-2.06-.94L8.5 2.5l-.94 2.06-2.06.94zm10 10l.94 2.06.94-2.06 2.06-.94-2.06-.94-.94-2.06-.94 2.06-2.06.94z\"/><path d=\"M17.41 7.96l-1.37-1.37c-.4-.4-.92-.59-1.43-.59-.52 0-1.04.2-1.43.59L10.3 9.45l-7.72 7.72c-.78.78-.78 2.05 0 2.83L4 21.41c.39.39.9.59 1.41.59.51 0 1.02-.2 1.41-.59l7.78-7.78 2.81-2.81c.8-.78.8-2.07 0-2.86zM5.41 20L4 18.59l7.72-7.72 1.47 1.35L5.41 20z\"/>\n",
              "  </svg>\n",
              "      </button>\n",
              "      \n",
              "  <style>\n",
              "    .colab-df-container {\n",
              "      display:flex;\n",
              "      flex-wrap:wrap;\n",
              "      gap: 12px;\n",
              "    }\n",
              "\n",
              "    .colab-df-convert {\n",
              "      background-color: #E8F0FE;\n",
              "      border: none;\n",
              "      border-radius: 50%;\n",
              "      cursor: pointer;\n",
              "      display: none;\n",
              "      fill: #1967D2;\n",
              "      height: 32px;\n",
              "      padding: 0 0 0 0;\n",
              "      width: 32px;\n",
              "    }\n",
              "\n",
              "    .colab-df-convert:hover {\n",
              "      background-color: #E2EBFA;\n",
              "      box-shadow: 0px 1px 2px rgba(60, 64, 67, 0.3), 0px 1px 3px 1px rgba(60, 64, 67, 0.15);\n",
              "      fill: #174EA6;\n",
              "    }\n",
              "\n",
              "    [theme=dark] .colab-df-convert {\n",
              "      background-color: #3B4455;\n",
              "      fill: #D2E3FC;\n",
              "    }\n",
              "\n",
              "    [theme=dark] .colab-df-convert:hover {\n",
              "      background-color: #434B5C;\n",
              "      box-shadow: 0px 1px 3px 1px rgba(0, 0, 0, 0.15);\n",
              "      filter: drop-shadow(0px 1px 2px rgba(0, 0, 0, 0.3));\n",
              "      fill: #FFFFFF;\n",
              "    }\n",
              "  </style>\n",
              "\n",
              "      <script>\n",
              "        const buttonEl =\n",
              "          document.querySelector('#df-0b7896f2-3101-48ca-9af8-9c1ced7f582f button.colab-df-convert');\n",
              "        buttonEl.style.display =\n",
              "          google.colab.kernel.accessAllowed ? 'block' : 'none';\n",
              "\n",
              "        async function convertToInteractive(key) {\n",
              "          const element = document.querySelector('#df-0b7896f2-3101-48ca-9af8-9c1ced7f582f');\n",
              "          const dataTable =\n",
              "            await google.colab.kernel.invokeFunction('convertToInteractive',\n",
              "                                                     [key], {});\n",
              "          if (!dataTable) return;\n",
              "\n",
              "          const docLinkHtml = 'Like what you see? Visit the ' +\n",
              "            '<a target=\"_blank\" href=https://colab.research.google.com/notebooks/data_table.ipynb>data table notebook</a>'\n",
              "            + ' to learn more about interactive tables.';\n",
              "          element.innerHTML = '';\n",
              "          dataTable['output_type'] = 'display_data';\n",
              "          await google.colab.output.renderOutput(dataTable, element);\n",
              "          const docLink = document.createElement('div');\n",
              "          docLink.innerHTML = docLinkHtml;\n",
              "          element.appendChild(docLink);\n",
              "        }\n",
              "      </script>\n",
              "    </div>\n",
              "  </div>\n",
              "  "
            ]
          },
          "metadata": {},
          "execution_count": 49
        }
      ]
    },
    {
      "cell_type": "code",
      "source": [
        "##My own example 193: dataframes\n",
        "\n",
        "df.shape  ##retorna (filas, columnas)"
      ],
      "metadata": {
        "colab": {
          "base_uri": "https://localhost:8080/"
        },
        "id": "ajONOWrlPIuf",
        "outputId": "f2eb8168-d2be-498f-bd0d-6ea44ed356ab"
      },
      "execution_count": 50,
      "outputs": [
        {
          "output_type": "execute_result",
          "data": {
            "text/plain": [
              "(5, 4)"
            ]
          },
          "metadata": {},
          "execution_count": 50
        }
      ]
    },
    {
      "cell_type": "code",
      "source": [
        "##My own example 194: dataframes\n",
        "df.info()  #retorna la informacion general"
      ],
      "metadata": {
        "colab": {
          "base_uri": "https://localhost:8080/"
        },
        "id": "GYsWHUYWPV7n",
        "outputId": "04f06c4d-1865-4926-a7b9-cc165360d105"
      },
      "execution_count": 51,
      "outputs": [
        {
          "output_type": "stream",
          "name": "stdout",
          "text": [
            "<class 'pandas.core.frame.DataFrame'>\n",
            "Index: 5 entries, A to E\n",
            "Data columns (total 4 columns):\n",
            " #   Column  Non-Null Count  Dtype  \n",
            "---  ------  --------------  -----  \n",
            " 0   W       5 non-null      float64\n",
            " 1   X       5 non-null      float64\n",
            " 2   Y       5 non-null      float64\n",
            " 3   Z       5 non-null      float64\n",
            "dtypes: float64(4)\n",
            "memory usage: 200.0+ bytes\n"
          ]
        }
      ]
    },
    {
      "cell_type": "code",
      "source": [
        "##My own example 195: dataframes\n",
        "df.describe() # No muestra la informacion de las columnas categoricas"
      ],
      "metadata": {
        "colab": {
          "base_uri": "https://localhost:8080/",
          "height": 300
        },
        "id": "9z3ycruvPfdV",
        "outputId": "6b7ff773-1f64-4c94-ae1e-0e1c91458996"
      },
      "execution_count": 53,
      "outputs": [
        {
          "output_type": "execute_result",
          "data": {
            "text/plain": [
              "              W         X         Y         Z\n",
              "count  5.000000  5.000000  5.000000  5.000000\n",
              "mean   0.343858  0.453764  0.452287  0.431871\n",
              "std    1.681131  1.061385  1.454516  0.594708\n",
              "min   -2.018168 -0.758872 -0.933237 -0.589001\n",
              "25%    0.188695 -0.319318 -0.848077  0.503826\n",
              "50%    0.190794  0.628133  0.528813  0.605965\n",
              "75%    0.651118  0.740122  0.907969  0.683509\n",
              "max    2.706850  1.978757  2.605967  0.955057"
            ],
            "text/html": [
              "\n",
              "  <div id=\"df-9f7a0259-5ec4-4e76-ab1b-bd4a97d546a3\">\n",
              "    <div class=\"colab-df-container\">\n",
              "      <div>\n",
              "<style scoped>\n",
              "    .dataframe tbody tr th:only-of-type {\n",
              "        vertical-align: middle;\n",
              "    }\n",
              "\n",
              "    .dataframe tbody tr th {\n",
              "        vertical-align: top;\n",
              "    }\n",
              "\n",
              "    .dataframe thead th {\n",
              "        text-align: right;\n",
              "    }\n",
              "</style>\n",
              "<table border=\"1\" class=\"dataframe\">\n",
              "  <thead>\n",
              "    <tr style=\"text-align: right;\">\n",
              "      <th></th>\n",
              "      <th>W</th>\n",
              "      <th>X</th>\n",
              "      <th>Y</th>\n",
              "      <th>Z</th>\n",
              "    </tr>\n",
              "  </thead>\n",
              "  <tbody>\n",
              "    <tr>\n",
              "      <th>count</th>\n",
              "      <td>5.000000</td>\n",
              "      <td>5.000000</td>\n",
              "      <td>5.000000</td>\n",
              "      <td>5.000000</td>\n",
              "    </tr>\n",
              "    <tr>\n",
              "      <th>mean</th>\n",
              "      <td>0.343858</td>\n",
              "      <td>0.453764</td>\n",
              "      <td>0.452287</td>\n",
              "      <td>0.431871</td>\n",
              "    </tr>\n",
              "    <tr>\n",
              "      <th>std</th>\n",
              "      <td>1.681131</td>\n",
              "      <td>1.061385</td>\n",
              "      <td>1.454516</td>\n",
              "      <td>0.594708</td>\n",
              "    </tr>\n",
              "    <tr>\n",
              "      <th>min</th>\n",
              "      <td>-2.018168</td>\n",
              "      <td>-0.758872</td>\n",
              "      <td>-0.933237</td>\n",
              "      <td>-0.589001</td>\n",
              "    </tr>\n",
              "    <tr>\n",
              "      <th>25%</th>\n",
              "      <td>0.188695</td>\n",
              "      <td>-0.319318</td>\n",
              "      <td>-0.848077</td>\n",
              "      <td>0.503826</td>\n",
              "    </tr>\n",
              "    <tr>\n",
              "      <th>50%</th>\n",
              "      <td>0.190794</td>\n",
              "      <td>0.628133</td>\n",
              "      <td>0.528813</td>\n",
              "      <td>0.605965</td>\n",
              "    </tr>\n",
              "    <tr>\n",
              "      <th>75%</th>\n",
              "      <td>0.651118</td>\n",
              "      <td>0.740122</td>\n",
              "      <td>0.907969</td>\n",
              "      <td>0.683509</td>\n",
              "    </tr>\n",
              "    <tr>\n",
              "      <th>max</th>\n",
              "      <td>2.706850</td>\n",
              "      <td>1.978757</td>\n",
              "      <td>2.605967</td>\n",
              "      <td>0.955057</td>\n",
              "    </tr>\n",
              "  </tbody>\n",
              "</table>\n",
              "</div>\n",
              "      <button class=\"colab-df-convert\" onclick=\"convertToInteractive('df-9f7a0259-5ec4-4e76-ab1b-bd4a97d546a3')\"\n",
              "              title=\"Convert this dataframe to an interactive table.\"\n",
              "              style=\"display:none;\">\n",
              "        \n",
              "  <svg xmlns=\"http://www.w3.org/2000/svg\" height=\"24px\"viewBox=\"0 0 24 24\"\n",
              "       width=\"24px\">\n",
              "    <path d=\"M0 0h24v24H0V0z\" fill=\"none\"/>\n",
              "    <path d=\"M18.56 5.44l.94 2.06.94-2.06 2.06-.94-2.06-.94-.94-2.06-.94 2.06-2.06.94zm-11 1L8.5 8.5l.94-2.06 2.06-.94-2.06-.94L8.5 2.5l-.94 2.06-2.06.94zm10 10l.94 2.06.94-2.06 2.06-.94-2.06-.94-.94-2.06-.94 2.06-2.06.94z\"/><path d=\"M17.41 7.96l-1.37-1.37c-.4-.4-.92-.59-1.43-.59-.52 0-1.04.2-1.43.59L10.3 9.45l-7.72 7.72c-.78.78-.78 2.05 0 2.83L4 21.41c.39.39.9.59 1.41.59.51 0 1.02-.2 1.41-.59l7.78-7.78 2.81-2.81c.8-.78.8-2.07 0-2.86zM5.41 20L4 18.59l7.72-7.72 1.47 1.35L5.41 20z\"/>\n",
              "  </svg>\n",
              "      </button>\n",
              "      \n",
              "  <style>\n",
              "    .colab-df-container {\n",
              "      display:flex;\n",
              "      flex-wrap:wrap;\n",
              "      gap: 12px;\n",
              "    }\n",
              "\n",
              "    .colab-df-convert {\n",
              "      background-color: #E8F0FE;\n",
              "      border: none;\n",
              "      border-radius: 50%;\n",
              "      cursor: pointer;\n",
              "      display: none;\n",
              "      fill: #1967D2;\n",
              "      height: 32px;\n",
              "      padding: 0 0 0 0;\n",
              "      width: 32px;\n",
              "    }\n",
              "\n",
              "    .colab-df-convert:hover {\n",
              "      background-color: #E2EBFA;\n",
              "      box-shadow: 0px 1px 2px rgba(60, 64, 67, 0.3), 0px 1px 3px 1px rgba(60, 64, 67, 0.15);\n",
              "      fill: #174EA6;\n",
              "    }\n",
              "\n",
              "    [theme=dark] .colab-df-convert {\n",
              "      background-color: #3B4455;\n",
              "      fill: #D2E3FC;\n",
              "    }\n",
              "\n",
              "    [theme=dark] .colab-df-convert:hover {\n",
              "      background-color: #434B5C;\n",
              "      box-shadow: 0px 1px 3px 1px rgba(0, 0, 0, 0.15);\n",
              "      filter: drop-shadow(0px 1px 2px rgba(0, 0, 0, 0.3));\n",
              "      fill: #FFFFFF;\n",
              "    }\n",
              "  </style>\n",
              "\n",
              "      <script>\n",
              "        const buttonEl =\n",
              "          document.querySelector('#df-9f7a0259-5ec4-4e76-ab1b-bd4a97d546a3 button.colab-df-convert');\n",
              "        buttonEl.style.display =\n",
              "          google.colab.kernel.accessAllowed ? 'block' : 'none';\n",
              "\n",
              "        async function convertToInteractive(key) {\n",
              "          const element = document.querySelector('#df-9f7a0259-5ec4-4e76-ab1b-bd4a97d546a3');\n",
              "          const dataTable =\n",
              "            await google.colab.kernel.invokeFunction('convertToInteractive',\n",
              "                                                     [key], {});\n",
              "          if (!dataTable) return;\n",
              "\n",
              "          const docLinkHtml = 'Like what you see? Visit the ' +\n",
              "            '<a target=\"_blank\" href=https://colab.research.google.com/notebooks/data_table.ipynb>data table notebook</a>'\n",
              "            + ' to learn more about interactive tables.';\n",
              "          element.innerHTML = '';\n",
              "          dataTable['output_type'] = 'display_data';\n",
              "          await google.colab.output.renderOutput(dataTable, element);\n",
              "          const docLink = document.createElement('div');\n",
              "          docLink.innerHTML = docLinkHtml;\n",
              "          element.appendChild(docLink);\n",
              "        }\n",
              "      </script>\n",
              "    </div>\n",
              "  </div>\n",
              "  "
            ]
          },
          "metadata": {},
          "execution_count": 53
        }
      ]
    },
    {
      "cell_type": "code",
      "source": [
        "##My own example 196: dataframes\n",
        "df['W']\n",
        "df['X']\n",
        "df['Y']\n",
        "df['Z']  #regresa los valores de la columna"
      ],
      "metadata": {
        "colab": {
          "base_uri": "https://localhost:8080/"
        },
        "id": "k9kNogmvPkPh",
        "outputId": "b108c14d-306a-44f1-80df-a2c26d11e230"
      },
      "execution_count": 54,
      "outputs": [
        {
          "output_type": "execute_result",
          "data": {
            "text/plain": [
              "A    0.503826\n",
              "B    0.605965\n",
              "C   -0.589001\n",
              "D    0.955057\n",
              "E    0.683509\n",
              "Name: Z, dtype: float64"
            ]
          },
          "metadata": {},
          "execution_count": 54
        }
      ]
    },
    {
      "cell_type": "code",
      "source": [
        "##My own example 197: dataframes\n",
        "\n",
        "df['nueva'] = df['W'] + df['Y']  #creando una nueva columna\n",
        "df"
      ],
      "metadata": {
        "colab": {
          "base_uri": "https://localhost:8080/",
          "height": 206
        },
        "id": "9FBenSstPzfz",
        "outputId": "5dbe8ac2-c57f-41f6-9314-5173562dbdcd"
      },
      "execution_count": 57,
      "outputs": [
        {
          "output_type": "execute_result",
          "data": {
            "text/plain": [
              "          W         X         Y         Z       new     nueva\n",
              "A  2.706850  0.628133  0.907969  0.503826  3.614819  3.614819\n",
              "B  0.651118 -0.319318 -0.848077  0.605965 -0.196959 -0.196959\n",
              "C -2.018168  0.740122  0.528813 -0.589001 -1.489355 -1.489355\n",
              "D  0.188695 -0.758872 -0.933237  0.955057 -0.744542 -0.744542\n",
              "E  0.190794  1.978757  2.605967  0.683509  2.796762  2.796762"
            ],
            "text/html": [
              "\n",
              "  <div id=\"df-695db7d3-b2c5-47ff-b660-bb73a28b7db4\">\n",
              "    <div class=\"colab-df-container\">\n",
              "      <div>\n",
              "<style scoped>\n",
              "    .dataframe tbody tr th:only-of-type {\n",
              "        vertical-align: middle;\n",
              "    }\n",
              "\n",
              "    .dataframe tbody tr th {\n",
              "        vertical-align: top;\n",
              "    }\n",
              "\n",
              "    .dataframe thead th {\n",
              "        text-align: right;\n",
              "    }\n",
              "</style>\n",
              "<table border=\"1\" class=\"dataframe\">\n",
              "  <thead>\n",
              "    <tr style=\"text-align: right;\">\n",
              "      <th></th>\n",
              "      <th>W</th>\n",
              "      <th>X</th>\n",
              "      <th>Y</th>\n",
              "      <th>Z</th>\n",
              "      <th>new</th>\n",
              "      <th>nueva</th>\n",
              "    </tr>\n",
              "  </thead>\n",
              "  <tbody>\n",
              "    <tr>\n",
              "      <th>A</th>\n",
              "      <td>2.706850</td>\n",
              "      <td>0.628133</td>\n",
              "      <td>0.907969</td>\n",
              "      <td>0.503826</td>\n",
              "      <td>3.614819</td>\n",
              "      <td>3.614819</td>\n",
              "    </tr>\n",
              "    <tr>\n",
              "      <th>B</th>\n",
              "      <td>0.651118</td>\n",
              "      <td>-0.319318</td>\n",
              "      <td>-0.848077</td>\n",
              "      <td>0.605965</td>\n",
              "      <td>-0.196959</td>\n",
              "      <td>-0.196959</td>\n",
              "    </tr>\n",
              "    <tr>\n",
              "      <th>C</th>\n",
              "      <td>-2.018168</td>\n",
              "      <td>0.740122</td>\n",
              "      <td>0.528813</td>\n",
              "      <td>-0.589001</td>\n",
              "      <td>-1.489355</td>\n",
              "      <td>-1.489355</td>\n",
              "    </tr>\n",
              "    <tr>\n",
              "      <th>D</th>\n",
              "      <td>0.188695</td>\n",
              "      <td>-0.758872</td>\n",
              "      <td>-0.933237</td>\n",
              "      <td>0.955057</td>\n",
              "      <td>-0.744542</td>\n",
              "      <td>-0.744542</td>\n",
              "    </tr>\n",
              "    <tr>\n",
              "      <th>E</th>\n",
              "      <td>0.190794</td>\n",
              "      <td>1.978757</td>\n",
              "      <td>2.605967</td>\n",
              "      <td>0.683509</td>\n",
              "      <td>2.796762</td>\n",
              "      <td>2.796762</td>\n",
              "    </tr>\n",
              "  </tbody>\n",
              "</table>\n",
              "</div>\n",
              "      <button class=\"colab-df-convert\" onclick=\"convertToInteractive('df-695db7d3-b2c5-47ff-b660-bb73a28b7db4')\"\n",
              "              title=\"Convert this dataframe to an interactive table.\"\n",
              "              style=\"display:none;\">\n",
              "        \n",
              "  <svg xmlns=\"http://www.w3.org/2000/svg\" height=\"24px\"viewBox=\"0 0 24 24\"\n",
              "       width=\"24px\">\n",
              "    <path d=\"M0 0h24v24H0V0z\" fill=\"none\"/>\n",
              "    <path d=\"M18.56 5.44l.94 2.06.94-2.06 2.06-.94-2.06-.94-.94-2.06-.94 2.06-2.06.94zm-11 1L8.5 8.5l.94-2.06 2.06-.94-2.06-.94L8.5 2.5l-.94 2.06-2.06.94zm10 10l.94 2.06.94-2.06 2.06-.94-2.06-.94-.94-2.06-.94 2.06-2.06.94z\"/><path d=\"M17.41 7.96l-1.37-1.37c-.4-.4-.92-.59-1.43-.59-.52 0-1.04.2-1.43.59L10.3 9.45l-7.72 7.72c-.78.78-.78 2.05 0 2.83L4 21.41c.39.39.9.59 1.41.59.51 0 1.02-.2 1.41-.59l7.78-7.78 2.81-2.81c.8-.78.8-2.07 0-2.86zM5.41 20L4 18.59l7.72-7.72 1.47 1.35L5.41 20z\"/>\n",
              "  </svg>\n",
              "      </button>\n",
              "      \n",
              "  <style>\n",
              "    .colab-df-container {\n",
              "      display:flex;\n",
              "      flex-wrap:wrap;\n",
              "      gap: 12px;\n",
              "    }\n",
              "\n",
              "    .colab-df-convert {\n",
              "      background-color: #E8F0FE;\n",
              "      border: none;\n",
              "      border-radius: 50%;\n",
              "      cursor: pointer;\n",
              "      display: none;\n",
              "      fill: #1967D2;\n",
              "      height: 32px;\n",
              "      padding: 0 0 0 0;\n",
              "      width: 32px;\n",
              "    }\n",
              "\n",
              "    .colab-df-convert:hover {\n",
              "      background-color: #E2EBFA;\n",
              "      box-shadow: 0px 1px 2px rgba(60, 64, 67, 0.3), 0px 1px 3px 1px rgba(60, 64, 67, 0.15);\n",
              "      fill: #174EA6;\n",
              "    }\n",
              "\n",
              "    [theme=dark] .colab-df-convert {\n",
              "      background-color: #3B4455;\n",
              "      fill: #D2E3FC;\n",
              "    }\n",
              "\n",
              "    [theme=dark] .colab-df-convert:hover {\n",
              "      background-color: #434B5C;\n",
              "      box-shadow: 0px 1px 3px 1px rgba(0, 0, 0, 0.15);\n",
              "      filter: drop-shadow(0px 1px 2px rgba(0, 0, 0, 0.3));\n",
              "      fill: #FFFFFF;\n",
              "    }\n",
              "  </style>\n",
              "\n",
              "      <script>\n",
              "        const buttonEl =\n",
              "          document.querySelector('#df-695db7d3-b2c5-47ff-b660-bb73a28b7db4 button.colab-df-convert');\n",
              "        buttonEl.style.display =\n",
              "          google.colab.kernel.accessAllowed ? 'block' : 'none';\n",
              "\n",
              "        async function convertToInteractive(key) {\n",
              "          const element = document.querySelector('#df-695db7d3-b2c5-47ff-b660-bb73a28b7db4');\n",
              "          const dataTable =\n",
              "            await google.colab.kernel.invokeFunction('convertToInteractive',\n",
              "                                                     [key], {});\n",
              "          if (!dataTable) return;\n",
              "\n",
              "          const docLinkHtml = 'Like what you see? Visit the ' +\n",
              "            '<a target=\"_blank\" href=https://colab.research.google.com/notebooks/data_table.ipynb>data table notebook</a>'\n",
              "            + ' to learn more about interactive tables.';\n",
              "          element.innerHTML = '';\n",
              "          dataTable['output_type'] = 'display_data';\n",
              "          await google.colab.output.renderOutput(dataTable, element);\n",
              "          const docLink = document.createElement('div');\n",
              "          docLink.innerHTML = docLinkHtml;\n",
              "          element.appendChild(docLink);\n",
              "        }\n",
              "      </script>\n",
              "    </div>\n",
              "  </div>\n",
              "  "
            ]
          },
          "metadata": {},
          "execution_count": 57
        }
      ]
    },
    {
      "cell_type": "code",
      "source": [
        "##My own example 198: dataframes\n",
        "\n",
        "df.loc['A'] # se selecciona todos los valores de la fila 'A'"
      ],
      "metadata": {
        "colab": {
          "base_uri": "https://localhost:8080/"
        },
        "id": "fz4Tk4xXP8dD",
        "outputId": "60205a23-9f55-49c1-b3fd-1628ad12f209"
      },
      "execution_count": 58,
      "outputs": [
        {
          "output_type": "execute_result",
          "data": {
            "text/plain": [
              "W        2.706850\n",
              "X        0.628133\n",
              "Y        0.907969\n",
              "Z        0.503826\n",
              "new      3.614819\n",
              "nueva    3.614819\n",
              "Name: A, dtype: float64"
            ]
          },
          "metadata": {},
          "execution_count": 58
        }
      ]
    },
    {
      "cell_type": "code",
      "source": [
        "##My own example 199: dataframes\n",
        "\n",
        "df.iloc[2] # Se seleccionan los valores de la fila con indice 2"
      ],
      "metadata": {
        "colab": {
          "base_uri": "https://localhost:8080/"
        },
        "id": "BIZW2bBoQC9C",
        "outputId": "36708746-5df5-4c82-eef7-eb993c64103d"
      },
      "execution_count": 59,
      "outputs": [
        {
          "output_type": "execute_result",
          "data": {
            "text/plain": [
              "W       -2.018168\n",
              "X        0.740122\n",
              "Y        0.528813\n",
              "Z       -0.589001\n",
              "new     -1.489355\n",
              "nueva   -1.489355\n",
              "Name: C, dtype: float64"
            ]
          },
          "metadata": {},
          "execution_count": 59
        }
      ]
    },
    {
      "cell_type": "code",
      "source": [
        "##My own example 200: dataframes\n",
        " \n",
        "df[df['W']>0] #seleccionar todas las filas donde el valor"
      ],
      "metadata": {
        "colab": {
          "base_uri": "https://localhost:8080/",
          "height": 175
        },
        "id": "wKbGzHQyQEaI",
        "outputId": "4c3bcb7b-3194-47ef-c039-7b77e871cbbc"
      },
      "execution_count": 61,
      "outputs": [
        {
          "output_type": "execute_result",
          "data": {
            "text/plain": [
              "          W         X         Y         Z       new     nueva\n",
              "A  2.706850  0.628133  0.907969  0.503826  3.614819  3.614819\n",
              "B  0.651118 -0.319318 -0.848077  0.605965 -0.196959 -0.196959\n",
              "D  0.188695 -0.758872 -0.933237  0.955057 -0.744542 -0.744542\n",
              "E  0.190794  1.978757  2.605967  0.683509  2.796762  2.796762"
            ],
            "text/html": [
              "\n",
              "  <div id=\"df-350a2cb2-707a-4139-bdb8-22967305b79f\">\n",
              "    <div class=\"colab-df-container\">\n",
              "      <div>\n",
              "<style scoped>\n",
              "    .dataframe tbody tr th:only-of-type {\n",
              "        vertical-align: middle;\n",
              "    }\n",
              "\n",
              "    .dataframe tbody tr th {\n",
              "        vertical-align: top;\n",
              "    }\n",
              "\n",
              "    .dataframe thead th {\n",
              "        text-align: right;\n",
              "    }\n",
              "</style>\n",
              "<table border=\"1\" class=\"dataframe\">\n",
              "  <thead>\n",
              "    <tr style=\"text-align: right;\">\n",
              "      <th></th>\n",
              "      <th>W</th>\n",
              "      <th>X</th>\n",
              "      <th>Y</th>\n",
              "      <th>Z</th>\n",
              "      <th>new</th>\n",
              "      <th>nueva</th>\n",
              "    </tr>\n",
              "  </thead>\n",
              "  <tbody>\n",
              "    <tr>\n",
              "      <th>A</th>\n",
              "      <td>2.706850</td>\n",
              "      <td>0.628133</td>\n",
              "      <td>0.907969</td>\n",
              "      <td>0.503826</td>\n",
              "      <td>3.614819</td>\n",
              "      <td>3.614819</td>\n",
              "    </tr>\n",
              "    <tr>\n",
              "      <th>B</th>\n",
              "      <td>0.651118</td>\n",
              "      <td>-0.319318</td>\n",
              "      <td>-0.848077</td>\n",
              "      <td>0.605965</td>\n",
              "      <td>-0.196959</td>\n",
              "      <td>-0.196959</td>\n",
              "    </tr>\n",
              "    <tr>\n",
              "      <th>D</th>\n",
              "      <td>0.188695</td>\n",
              "      <td>-0.758872</td>\n",
              "      <td>-0.933237</td>\n",
              "      <td>0.955057</td>\n",
              "      <td>-0.744542</td>\n",
              "      <td>-0.744542</td>\n",
              "    </tr>\n",
              "    <tr>\n",
              "      <th>E</th>\n",
              "      <td>0.190794</td>\n",
              "      <td>1.978757</td>\n",
              "      <td>2.605967</td>\n",
              "      <td>0.683509</td>\n",
              "      <td>2.796762</td>\n",
              "      <td>2.796762</td>\n",
              "    </tr>\n",
              "  </tbody>\n",
              "</table>\n",
              "</div>\n",
              "      <button class=\"colab-df-convert\" onclick=\"convertToInteractive('df-350a2cb2-707a-4139-bdb8-22967305b79f')\"\n",
              "              title=\"Convert this dataframe to an interactive table.\"\n",
              "              style=\"display:none;\">\n",
              "        \n",
              "  <svg xmlns=\"http://www.w3.org/2000/svg\" height=\"24px\"viewBox=\"0 0 24 24\"\n",
              "       width=\"24px\">\n",
              "    <path d=\"M0 0h24v24H0V0z\" fill=\"none\"/>\n",
              "    <path d=\"M18.56 5.44l.94 2.06.94-2.06 2.06-.94-2.06-.94-.94-2.06-.94 2.06-2.06.94zm-11 1L8.5 8.5l.94-2.06 2.06-.94-2.06-.94L8.5 2.5l-.94 2.06-2.06.94zm10 10l.94 2.06.94-2.06 2.06-.94-2.06-.94-.94-2.06-.94 2.06-2.06.94z\"/><path d=\"M17.41 7.96l-1.37-1.37c-.4-.4-.92-.59-1.43-.59-.52 0-1.04.2-1.43.59L10.3 9.45l-7.72 7.72c-.78.78-.78 2.05 0 2.83L4 21.41c.39.39.9.59 1.41.59.51 0 1.02-.2 1.41-.59l7.78-7.78 2.81-2.81c.8-.78.8-2.07 0-2.86zM5.41 20L4 18.59l7.72-7.72 1.47 1.35L5.41 20z\"/>\n",
              "  </svg>\n",
              "      </button>\n",
              "      \n",
              "  <style>\n",
              "    .colab-df-container {\n",
              "      display:flex;\n",
              "      flex-wrap:wrap;\n",
              "      gap: 12px;\n",
              "    }\n",
              "\n",
              "    .colab-df-convert {\n",
              "      background-color: #E8F0FE;\n",
              "      border: none;\n",
              "      border-radius: 50%;\n",
              "      cursor: pointer;\n",
              "      display: none;\n",
              "      fill: #1967D2;\n",
              "      height: 32px;\n",
              "      padding: 0 0 0 0;\n",
              "      width: 32px;\n",
              "    }\n",
              "\n",
              "    .colab-df-convert:hover {\n",
              "      background-color: #E2EBFA;\n",
              "      box-shadow: 0px 1px 2px rgba(60, 64, 67, 0.3), 0px 1px 3px 1px rgba(60, 64, 67, 0.15);\n",
              "      fill: #174EA6;\n",
              "    }\n",
              "\n",
              "    [theme=dark] .colab-df-convert {\n",
              "      background-color: #3B4455;\n",
              "      fill: #D2E3FC;\n",
              "    }\n",
              "\n",
              "    [theme=dark] .colab-df-convert:hover {\n",
              "      background-color: #434B5C;\n",
              "      box-shadow: 0px 1px 3px 1px rgba(0, 0, 0, 0.15);\n",
              "      filter: drop-shadow(0px 1px 2px rgba(0, 0, 0, 0.3));\n",
              "      fill: #FFFFFF;\n",
              "    }\n",
              "  </style>\n",
              "\n",
              "      <script>\n",
              "        const buttonEl =\n",
              "          document.querySelector('#df-350a2cb2-707a-4139-bdb8-22967305b79f button.colab-df-convert');\n",
              "        buttonEl.style.display =\n",
              "          google.colab.kernel.accessAllowed ? 'block' : 'none';\n",
              "\n",
              "        async function convertToInteractive(key) {\n",
              "          const element = document.querySelector('#df-350a2cb2-707a-4139-bdb8-22967305b79f');\n",
              "          const dataTable =\n",
              "            await google.colab.kernel.invokeFunction('convertToInteractive',\n",
              "                                                     [key], {});\n",
              "          if (!dataTable) return;\n",
              "\n",
              "          const docLinkHtml = 'Like what you see? Visit the ' +\n",
              "            '<a target=\"_blank\" href=https://colab.research.google.com/notebooks/data_table.ipynb>data table notebook</a>'\n",
              "            + ' to learn more about interactive tables.';\n",
              "          element.innerHTML = '';\n",
              "          dataTable['output_type'] = 'display_data';\n",
              "          await google.colab.output.renderOutput(dataTable, element);\n",
              "          const docLink = document.createElement('div');\n",
              "          docLink.innerHTML = docLinkHtml;\n",
              "          element.appendChild(docLink);\n",
              "        }\n",
              "      </script>\n",
              "    </div>\n",
              "  </div>\n",
              "  "
            ]
          },
          "metadata": {},
          "execution_count": 61
        }
      ]
    }
  ]
}